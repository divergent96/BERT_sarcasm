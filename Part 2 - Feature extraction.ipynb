{
 "cells": [
  {
   "cell_type": "markdown",
   "id": "c69c8248",
   "metadata": {
    "papermill": {
     "duration": 0.010875,
     "end_time": "2023-03-08T00:37:27.897402",
     "exception": false,
     "start_time": "2023-03-08T00:37:27.886527",
     "status": "completed"
    },
    "tags": []
   },
   "source": [
    "# IMPORTANT NOTE\n",
    "\n",
    "## Continuation of part 1 notebook. Contains model framework and BERT"
   ]
  },
  {
   "cell_type": "code",
   "execution_count": 1,
   "id": "222915e1",
   "metadata": {
    "_cell_guid": "b1076dfc-b9ad-4769-8c92-a6c4dae69d19",
    "_uuid": "8f2839f25d086af736a60e9eeb907d3b93b6e0e5",
    "execution": {
     "iopub.execute_input": "2023-03-08T00:37:27.913847Z",
     "iopub.status.busy": "2023-03-08T00:37:27.913299Z",
     "iopub.status.idle": "2023-03-08T00:37:27.938764Z",
     "shell.execute_reply": "2023-03-08T00:37:27.937459Z"
    },
    "papermill": {
     "duration": 0.036336,
     "end_time": "2023-03-08T00:37:27.941118",
     "exception": false,
     "start_time": "2023-03-08T00:37:27.904782",
     "status": "completed"
    },
    "tags": []
   },
   "outputs": [
    {
     "name": "stdout",
     "output_type": "stream",
     "text": [
      "/kaggle/input/sarcasm/bert_embeddings_768.parquet\n",
      "/kaggle/input/sarcasm/non_sarcasm_tweets.csv\n",
      "/kaggle/input/sarcasm/sarcasm_tweets.csv\n",
      "/kaggle/input/sarcasm/clean_raw_data.parquet\n",
      "/kaggle/input/artkdata-private/ATRK dataset.csv\n",
      "/kaggle/input/artkdata-private/clean_raw_data.parquet\n"
     ]
    }
   ],
   "source": [
    "# This Python 3 environment comes with many helpful analytics libraries installed\n",
    "# It is defined by the kaggle/python Docker image: https://github.com/kaggle/docker-python\n",
    "# For example, here's several helpful packages to load\n",
    "\n",
    "import numpy as np # linear algebra\n",
    "import pandas as pd # data processing, CSV file I/O (e.g. pd.read_csv)\n",
    "\n",
    "# Add progress bars everywhere!!!!!!!!!!!!!!!!!!!!!\n",
    "from tqdm import tqdm\n",
    "tqdm.pandas()\n",
    "\n",
    "# Input data files are available in the read-only \"../input/\" directory\n",
    "# For example, running this (by clicking run or pressing Shift+Enter) will list all files under the input directory\n",
    "\n",
    "import os\n",
    "for dirname, _, filenames in os.walk('/kaggle/input'):\n",
    "    for filename in filenames:\n",
    "        print(os.path.join(dirname, filename))\n",
    "\n",
    "# You can write up to 20GB to the current directory (/kaggle/working/) that gets preserved as output when you create a version using \"Save & Run All\" \n",
    "# You can also write temporary files to /kaggle/temp/, but they won't be saved outside of the current session"
   ]
  },
  {
   "cell_type": "markdown",
   "id": "80496dbf",
   "metadata": {
    "papermill": {
     "duration": 0.006718,
     "end_time": "2023-03-08T00:37:27.954981",
     "exception": false,
     "start_time": "2023-03-08T00:37:27.948263",
     "status": "completed"
    },
    "tags": []
   },
   "source": [
    "# Import libraries"
   ]
  },
  {
   "cell_type": "code",
   "execution_count": 2,
   "id": "19793111",
   "metadata": {
    "execution": {
     "iopub.execute_input": "2023-03-08T00:37:27.970681Z",
     "iopub.status.busy": "2023-03-08T00:37:27.970250Z",
     "iopub.status.idle": "2023-03-08T00:37:29.752743Z",
     "shell.execute_reply": "2023-03-08T00:37:29.751757Z"
    },
    "papermill": {
     "duration": 1.793214,
     "end_time": "2023-03-08T00:37:29.755086",
     "exception": false,
     "start_time": "2023-03-08T00:37:27.961872",
     "status": "completed"
    },
    "tags": []
   },
   "outputs": [
    {
     "name": "stderr",
     "output_type": "stream",
     "text": [
      "[nltk_data] Downloading package punkt to /usr/share/nltk_data...\n",
      "[nltk_data]   Package punkt is already up-to-date!\n",
      "[nltk_data] Downloading package stopwords to /usr/share/nltk_data...\n",
      "[nltk_data]   Package stopwords is already up-to-date!\n"
     ]
    }
   ],
   "source": [
    "# Set random seed\n",
    "\n",
    "SEED = 1234509876\n",
    "\n",
    "# Importing basic libraries\n",
    "from zipfile import ZipFile\n",
    "import os, sys\n",
    "import re\n",
    "import gc\n",
    "import time\n",
    "import datetime\n",
    "\n",
    "import pandas as pd\n",
    "import numpy as np\n",
    "import matplotlib.pyplot as plt\n",
    "import seaborn as sns\n",
    "\n",
    "import json \n",
    "from string import punctuation\n",
    "import pyarrow as pa\n",
    "import pyarrow.parquet as pq\n",
    "\n",
    "%matplotlib inline\n",
    "\n",
    "# Import NLTK\n",
    "import nltk\n",
    "nltk.download('punkt')\n",
    "nltk.download('stopwords')\n",
    "\n",
    "from nltk.corpus import stopwords\n",
    "from nltk.stem import WordNetLemmatizer\n",
    "\n",
    "# # Preprocessing\n",
    "# from sklearn.feature_extraction.text import TfidfVectorizer, CountVectorizer\n",
    "# from sklearn.model_selection import train_test_split, cross_val_score\n",
    "# from sklearn.preprocessing import StandardScaler\n",
    "\n",
    "# from sklearn.decomposition import PCA\n",
    "# from sklearn.metrics import f1_score\n",
    "\n",
    "from wordcloud import WordCloud\n",
    "# Import models\n",
    "\n",
    "# import lightgbm as lgb\n",
    "# from sklearn.cluster import KMeans\n",
    "# from sklearn.linear_model import LogisticRegression\n",
    "# from sklearn.ensemble import RandomForestClassifier, AdaBoostClassifier\n",
    "# from sklearn.naive_bayes import GaussianNB\n",
    "\n",
    "# Model selection\n",
    "# from sklearn.model_selection import RandomizedSearchCV\n",
    "\n",
    "# Others\n",
    "\n",
    "from tqdm import tqdm_notebook #Loads progressbars for various loops\n",
    "\n",
    "import warnings\n",
    "\n",
    "warnings.filterwarnings('ignore')\n",
    "\n",
    "#####################\n",
    "#Useful pandas settings\n",
    "\n",
    "pd.set_option('display.max_rows', 400)\n",
    "pd.set_option('display.max_columns', 160)\n",
    "pd.set_option('display.max_colwidth', 40)\n",
    "warnings.filterwarnings(\"ignore\")"
   ]
  },
  {
   "cell_type": "markdown",
   "id": "8cc8e9cb",
   "metadata": {
    "papermill": {
     "duration": 0.006944,
     "end_time": "2023-03-08T00:37:29.769319",
     "exception": false,
     "start_time": "2023-03-08T00:37:29.762375",
     "status": "completed"
    },
    "tags": []
   },
   "source": [
    "# Custom Functions\n",
    "\n",
    "Collecting all functions here for easy reference and update"
   ]
  },
  {
   "cell_type": "code",
   "execution_count": 3,
   "id": "4fd88f53",
   "metadata": {
    "execution": {
     "iopub.execute_input": "2023-03-08T00:37:29.785600Z",
     "iopub.status.busy": "2023-03-08T00:37:29.785170Z",
     "iopub.status.idle": "2023-03-08T00:37:29.800832Z",
     "shell.execute_reply": "2023-03-08T00:37:29.799727Z"
    },
    "papermill": {
     "duration": 0.026691,
     "end_time": "2023-03-08T00:37:29.803215",
     "exception": false,
     "start_time": "2023-03-08T00:37:29.776524",
     "status": "completed"
    },
    "tags": []
   },
   "outputs": [],
   "source": [
    "################################################################################################\n",
    "# Downcasting function for pandas dataframes\n",
    "\n",
    "def downcast_dtypes(df):\n",
    "    '''\n",
    "    Changes column types in the dataframe:             \n",
    "      `float64` type to lowest possible float without data loss\n",
    "      `int64`   type to lowest possible int wihtout data loss\n",
    "    '''\n",
    "\n",
    "    # Select columns to downcast\n",
    "    float_cols = [col for col in df if df[col].dtype == \"float64\"]\n",
    "    int_cols =   [col for col in df if df[col].dtype == \"int64\"]\n",
    "\n",
    "    # Downcast columns using to numeric function\n",
    "    df[float_cols] = df[float_cols].apply(pd.to_numeric, downcast='float')\n",
    "    df[int_cols] = df[int_cols].apply(pd.to_numeric, downcast='integer')\n",
    "\n",
    "    # remove variables from memory to avoid issues\n",
    "\n",
    "    del float_cols\n",
    "    del int_cols\n",
    "\n",
    "    return df\n",
    "\n",
    "################################################################################################\n",
    "# Check duplication at given level of dataframe\n",
    "\n",
    "def check_dups(df, cols):\n",
    "\n",
    "    orig_count_rows = df.shape[0]\n",
    "\n",
    "    temp = df.groupby(cols).size().reset_index(name = 'counts')\n",
    "\n",
    "    dedup_count_rows = temp.shape[0]\n",
    "\n",
    "    if orig_count_rows == dedup_count_rows:\n",
    "        print(\"No duplicates. Dataframe is unique at given level\")\n",
    "        print(\"# of unique entries: n=\",orig_count_rows)\n",
    "    else:\n",
    "        print(\"Duplicates found. Dataframe is not unique at given level\")\n",
    "        print(\"# of entries in original dataset: n=\", orig_count_rows)\n",
    "        print(\"# of unique entries expected in deduped dataset: n=\", dedup_count_rows)\n",
    "        print(\"# of addational entries: n=\", orig_count_rows - dedup_count_rows)\n",
    "\n",
    "    del orig_count_rows, temp, dedup_count_rows\n",
    "\n",
    "#####################################################################################\n",
    "# Plotting classification features\n",
    "def fancy_plot(df):\n",
    "    column_names = list(df.columns.values)\n",
    "    frauds = df[df['Class'] == 1]\n",
    "    no_frauds = df[df['Class'] == 0]\n",
    "\n",
    "    plt.figure()\n",
    "    fig, ax = plt.subplots(8,4,figsize=(16,28))\n",
    "    i = 0\n",
    "    for feature in column_names:\n",
    "        i += 1\n",
    "        plt.subplot(8,4,i)\n",
    "        sns.kdeplot(frauds[feature])\n",
    "        sns.kdeplot(no_frauds[feature])\n",
    "        plt.xlabel(feature, fontsize=10)\n",
    "        locs, labels = plt.xticks()\n",
    "        plt.tick_params(axis='both', which='major', labelsize=12)\n",
    "    plt.show();\n",
    "\n",
    "####################################################################################\n",
    "\n",
    "########################################\n",
    "#Custom function to apply functions to dataframe with missing values\n",
    "def impute_missing(df, func, target_col, new_col_name):\n",
    "    df.loc[~df[target_col].isnull(),new_col_name] = df.loc[~df[target_col].isnull(),target_col].apply(func)\n"
   ]
  },
  {
   "cell_type": "markdown",
   "id": "09c847f6",
   "metadata": {
    "papermill": {
     "duration": 0.006982,
     "end_time": "2023-03-08T00:37:29.817547",
     "exception": false,
     "start_time": "2023-03-08T00:37:29.810565",
     "status": "completed"
    },
    "tags": []
   },
   "source": [
    "# Import dataset - continue from P1"
   ]
  },
  {
   "cell_type": "code",
   "execution_count": 4,
   "id": "5a214f93",
   "metadata": {
    "execution": {
     "iopub.execute_input": "2023-03-08T00:37:29.833877Z",
     "iopub.status.busy": "2023-03-08T00:37:29.833237Z",
     "iopub.status.idle": "2023-03-08T00:37:30.233424Z",
     "shell.execute_reply": "2023-03-08T00:37:30.232525Z"
    },
    "papermill": {
     "duration": 0.411282,
     "end_time": "2023-03-08T00:37:30.236066",
     "exception": false,
     "start_time": "2023-03-08T00:37:29.824784",
     "status": "completed"
    },
    "tags": []
   },
   "outputs": [],
   "source": [
    "# Import code for resume\n",
    "# temp = pq.read_table('/kaggle/input/sarcasm/clean_raw_data.parquet')\n",
    "\n",
    "temp = pq.read_table('/kaggle/input/artkdata-private/clean_raw_data.parquet')\n",
    "\n",
    "raw_data = temp.to_pandas()"
   ]
  },
  {
   "cell_type": "code",
   "execution_count": 5,
   "id": "8a51da8b",
   "metadata": {
    "execution": {
     "iopub.execute_input": "2023-03-08T00:37:30.252737Z",
     "iopub.status.busy": "2023-03-08T00:37:30.252069Z",
     "iopub.status.idle": "2023-03-08T00:37:30.260612Z",
     "shell.execute_reply": "2023-03-08T00:37:30.259619Z"
    },
    "papermill": {
     "duration": 0.018969,
     "end_time": "2023-03-08T00:37:30.262719",
     "exception": false,
     "start_time": "2023-03-08T00:37:30.243750",
     "status": "completed"
    },
    "tags": []
   },
   "outputs": [
    {
     "data": {
      "text/plain": [
       "(30000, 6)"
      ]
     },
     "execution_count": 5,
     "metadata": {},
     "output_type": "execute_result"
    }
   ],
   "source": [
    "# raw_data.loc[raw_data.labels != 'sarcasm',:]\n",
    "raw_data.shape"
   ]
  },
  {
   "cell_type": "code",
   "execution_count": 6,
   "id": "400af8b7",
   "metadata": {
    "execution": {
     "iopub.execute_input": "2023-03-08T00:37:30.278353Z",
     "iopub.status.busy": "2023-03-08T00:37:30.278014Z",
     "iopub.status.idle": "2023-03-08T00:37:30.295183Z",
     "shell.execute_reply": "2023-03-08T00:37:30.294228Z"
    },
    "papermill": {
     "duration": 0.027486,
     "end_time": "2023-03-08T00:37:30.297345",
     "exception": false,
     "start_time": "2023-03-08T00:37:30.269859",
     "status": "completed"
    },
    "tags": []
   },
   "outputs": [
    {
     "data": {
      "text/html": [
       "<div>\n",
       "<style scoped>\n",
       "    .dataframe tbody tr th:only-of-type {\n",
       "        vertical-align: middle;\n",
       "    }\n",
       "\n",
       "    .dataframe tbody tr th {\n",
       "        vertical-align: top;\n",
       "    }\n",
       "\n",
       "    .dataframe thead th {\n",
       "        text-align: right;\n",
       "    }\n",
       "</style>\n",
       "<table border=\"1\" class=\"dataframe\">\n",
       "  <thead>\n",
       "    <tr style=\"text-align: right;\">\n",
       "      <th></th>\n",
       "      <th>text</th>\n",
       "      <th>labels</th>\n",
       "      <th>clean_text</th>\n",
       "      <th>emoji_list</th>\n",
       "      <th>clean_text_lem</th>\n",
       "      <th>clean_text_lem_stop</th>\n",
       "    </tr>\n",
       "  </thead>\n",
       "  <tbody>\n",
       "    <tr>\n",
       "      <th>29995</th>\n",
       "      <td>ALL WHITE Party UP??blessed Toshlove...</td>\n",
       "      <td>non-sarcasm</td>\n",
       "      <td>ALL WHITE Party UP??blessed Toshlove...</td>\n",
       "      <td>[]</td>\n",
       "      <td>ALL WHITE Party UP??blessed Toshlove...</td>\n",
       "      <td>ALL WHITE Party UP??blessed Toshlove...</td>\n",
       "    </tr>\n",
       "    <tr>\n",
       "      <th>29996</th>\n",
       "      <td>REPLY @Sumeru_Infra For more details...</td>\n",
       "      <td>non-sarcasm</td>\n",
       "      <td>REPLY SOME_ENTITY infra For more det...</td>\n",
       "      <td>[]</td>\n",
       "      <td>REPLY SOME_ENTITY infra For more det...</td>\n",
       "      <td>REPLY SOME_ENTITY infra For detail c...</td>\n",
       "    </tr>\n",
       "    <tr>\n",
       "      <th>29997</th>\n",
       "      <td>07/09::::::Happy Birthday CHRISSIE H...</td>\n",
       "      <td>non-sarcasm</td>\n",
       "      <td>07/09::::::Happy Birthday christie h...</td>\n",
       "      <td>[]</td>\n",
       "      <td>07/09::::::Happy Birthday christie h...</td>\n",
       "      <td>07/09::::::Happy Birthday christie h...</td>\n",
       "    </tr>\n",
       "    <tr>\n",
       "      <th>29998</th>\n",
       "      <td>RT @SamanthaBrook75: Learn to be Hap...</td>\n",
       "      <td>non-sarcasm</td>\n",
       "      <td>it SOME_ENTITY : Learn to be happy S...</td>\n",
       "      <td>[]</td>\n",
       "      <td>it SOME_ENTITY : Learn to be happy S...</td>\n",
       "      <td>SOME_ENTITY : Learn happy Sign recei...</td>\n",
       "    </tr>\n",
       "    <tr>\n",
       "      <th>29999</th>\n",
       "      <td>RT @MichaelLuiMusic: Have a great we...</td>\n",
       "      <td>non-sarcasm</td>\n",
       "      <td>it SOME_ENTITY : Have a great weeken...</td>\n",
       "      <td>[]</td>\n",
       "      <td>it SOME_ENTITY : Have a great weeken...</td>\n",
       "      <td>SOME_ENTITY : Have great weekend eve...</td>\n",
       "    </tr>\n",
       "  </tbody>\n",
       "</table>\n",
       "</div>"
      ],
      "text/plain": [
       "                                          text       labels  \\\n",
       "29995  ALL WHITE Party UP??blessed Toshlove...  non-sarcasm   \n",
       "29996  REPLY @Sumeru_Infra For more details...  non-sarcasm   \n",
       "29997  07/09::::::Happy Birthday CHRISSIE H...  non-sarcasm   \n",
       "29998  RT @SamanthaBrook75: Learn to be Hap...  non-sarcasm   \n",
       "29999  RT @MichaelLuiMusic: Have a great we...  non-sarcasm   \n",
       "\n",
       "                                    clean_text emoji_list  \\\n",
       "29995  ALL WHITE Party UP??blessed Toshlove...         []   \n",
       "29996  REPLY SOME_ENTITY infra For more det...         []   \n",
       "29997  07/09::::::Happy Birthday christie h...         []   \n",
       "29998  it SOME_ENTITY : Learn to be happy S...         []   \n",
       "29999  it SOME_ENTITY : Have a great weeken...         []   \n",
       "\n",
       "                                clean_text_lem  \\\n",
       "29995  ALL WHITE Party UP??blessed Toshlove...   \n",
       "29996  REPLY SOME_ENTITY infra For more det...   \n",
       "29997  07/09::::::Happy Birthday christie h...   \n",
       "29998  it SOME_ENTITY : Learn to be happy S...   \n",
       "29999  it SOME_ENTITY : Have a great weeken...   \n",
       "\n",
       "                           clean_text_lem_stop  \n",
       "29995  ALL WHITE Party UP??blessed Toshlove...  \n",
       "29996  REPLY SOME_ENTITY infra For detail c...  \n",
       "29997  07/09::::::Happy Birthday christie h...  \n",
       "29998  SOME_ENTITY : Learn happy Sign recei...  \n",
       "29999  SOME_ENTITY : Have great weekend eve...  "
      ]
     },
     "execution_count": 6,
     "metadata": {},
     "output_type": "execute_result"
    }
   ],
   "source": [
    "raw_data.tail()"
   ]
  },
  {
   "cell_type": "markdown",
   "id": "5493b8b9",
   "metadata": {
    "papermill": {
     "duration": 0.007246,
     "end_time": "2023-03-08T00:37:30.312565",
     "exception": false,
     "start_time": "2023-03-08T00:37:30.305319",
     "status": "completed"
    },
    "tags": []
   },
   "source": [
    "# Extract features from pretrained BERT model\n",
    "\n"
   ]
  },
  {
   "cell_type": "code",
   "execution_count": 7,
   "id": "eee091be",
   "metadata": {
    "execution": {
     "iopub.execute_input": "2023-03-08T00:37:30.329645Z",
     "iopub.status.busy": "2023-03-08T00:37:30.328983Z",
     "iopub.status.idle": "2023-03-08T00:37:30.333356Z",
     "shell.execute_reply": "2023-03-08T00:37:30.332313Z"
    },
    "papermill": {
     "duration": 0.015447,
     "end_time": "2023-03-08T00:37:30.335549",
     "exception": false,
     "start_time": "2023-03-08T00:37:30.320102",
     "status": "completed"
    },
    "tags": []
   },
   "outputs": [],
   "source": [
    "# !pip install transformers"
   ]
  },
  {
   "cell_type": "code",
   "execution_count": 8,
   "id": "50155513",
   "metadata": {
    "execution": {
     "iopub.execute_input": "2023-03-08T00:37:30.351950Z",
     "iopub.status.busy": "2023-03-08T00:37:30.351519Z",
     "iopub.status.idle": "2023-03-08T00:37:34.874524Z",
     "shell.execute_reply": "2023-03-08T00:37:34.873395Z"
    },
    "papermill": {
     "duration": 4.534376,
     "end_time": "2023-03-08T00:37:34.877398",
     "exception": false,
     "start_time": "2023-03-08T00:37:30.343022",
     "status": "completed"
    },
    "tags": []
   },
   "outputs": [
    {
     "data": {
      "application/vnd.jupyter.widget-view+json": {
       "model_id": "a4bc272c1682416b84ee34138a1babc3",
       "version_major": 2,
       "version_minor": 0
      },
      "text/plain": [
       "Downloading:   0%|          | 0.00/226k [00:00<?, ?B/s]"
      ]
     },
     "metadata": {},
     "output_type": "display_data"
    },
    {
     "data": {
      "application/vnd.jupyter.widget-view+json": {
       "model_id": "59e2a49dcc9c4afd9e08c54d212a0255",
       "version_major": 2,
       "version_minor": 0
      },
      "text/plain": [
       "Downloading:   0%|          | 0.00/28.0 [00:00<?, ?B/s]"
      ]
     },
     "metadata": {},
     "output_type": "display_data"
    },
    {
     "data": {
      "application/vnd.jupyter.widget-view+json": {
       "model_id": "2d1dda7584a34e7a898d74224d46e649",
       "version_major": 2,
       "version_minor": 0
      },
      "text/plain": [
       "Downloading:   0%|          | 0.00/570 [00:00<?, ?B/s]"
      ]
     },
     "metadata": {},
     "output_type": "display_data"
    }
   ],
   "source": [
    "import torch\n",
    "from transformers import BertTokenizer, BertModel\n",
    "\n",
    "# OPTIONAL: if you want to have more information on what's happening, activate the logger as follows\n",
    "import logging\n",
    "#logging.basicConfig(level=logging.INFO)\n",
    "\n",
    "# Load pre-trained model tokenizer (vocabulary)\n",
    "tokenizer = BertTokenizer.from_pretrained('bert-base-uncased')"
   ]
  },
  {
   "cell_type": "code",
   "execution_count": 9,
   "id": "b2b0505b",
   "metadata": {
    "execution": {
     "iopub.execute_input": "2023-03-08T00:37:34.896979Z",
     "iopub.status.busy": "2023-03-08T00:37:34.895794Z",
     "iopub.status.idle": "2023-03-08T00:37:34.906967Z",
     "shell.execute_reply": "2023-03-08T00:37:34.905911Z"
    },
    "papermill": {
     "duration": 0.023461,
     "end_time": "2023-03-08T00:37:34.909795",
     "exception": false,
     "start_time": "2023-03-08T00:37:34.886334",
     "status": "completed"
    },
    "tags": []
   },
   "outputs": [],
   "source": [
    "# Copy of data with needed fields\n",
    "bert_test_data = raw_data.loc[:,['clean_text']]"
   ]
  },
  {
   "cell_type": "code",
   "execution_count": 10,
   "id": "866d80f8",
   "metadata": {
    "execution": {
     "iopub.execute_input": "2023-03-08T00:37:34.927778Z",
     "iopub.status.busy": "2023-03-08T00:37:34.927377Z",
     "iopub.status.idle": "2023-03-08T00:37:34.935996Z",
     "shell.execute_reply": "2023-03-08T00:37:34.934798Z"
    },
    "papermill": {
     "duration": 0.020395,
     "end_time": "2023-03-08T00:37:34.938279",
     "exception": false,
     "start_time": "2023-03-08T00:37:34.917884",
     "status": "completed"
    },
    "tags": []
   },
   "outputs": [
    {
     "data": {
      "text/plain": [
       "clean_text    object\n",
       "dtype: object"
      ]
     },
     "execution_count": 10,
     "metadata": {},
     "output_type": "execute_result"
    }
   ],
   "source": [
    "bert_test_data.dtypes"
   ]
  },
  {
   "cell_type": "code",
   "execution_count": 11,
   "id": "31a5447b",
   "metadata": {
    "execution": {
     "iopub.execute_input": "2023-03-08T00:37:34.957544Z",
     "iopub.status.busy": "2023-03-08T00:37:34.957149Z",
     "iopub.status.idle": "2023-03-08T00:37:34.967375Z",
     "shell.execute_reply": "2023-03-08T00:37:34.966354Z"
    },
    "papermill": {
     "duration": 0.023332,
     "end_time": "2023-03-08T00:37:34.969731",
     "exception": false,
     "start_time": "2023-03-08T00:37:34.946399",
     "status": "completed"
    },
    "tags": []
   },
   "outputs": [
    {
     "data": {
      "text/html": [
       "<div>\n",
       "<style scoped>\n",
       "    .dataframe tbody tr th:only-of-type {\n",
       "        vertical-align: middle;\n",
       "    }\n",
       "\n",
       "    .dataframe tbody tr th {\n",
       "        vertical-align: top;\n",
       "    }\n",
       "\n",
       "    .dataframe thead th {\n",
       "        text-align: right;\n",
       "    }\n",
       "</style>\n",
       "<table border=\"1\" class=\"dataframe\">\n",
       "  <thead>\n",
       "    <tr style=\"text-align: right;\">\n",
       "      <th></th>\n",
       "      <th>clean_text</th>\n",
       "    </tr>\n",
       "  </thead>\n",
       "  <tbody>\n",
       "    <tr>\n",
       "      <th>0</th>\n",
       "      <td>Youll notice on the new episode comi...</td>\n",
       "    </tr>\n",
       "    <tr>\n",
       "      <th>1</th>\n",
       "      <td>SOME_ENTITY SOME_ENTITY Well arent y...</td>\n",
       "    </tr>\n",
       "    <tr>\n",
       "      <th>2</th>\n",
       "      <td>SOME_ENTITY SOME_ENTITY SOME_ENTITY ...</td>\n",
       "    </tr>\n",
       "    <tr>\n",
       "      <th>3</th>\n",
       "      <td>Merlin for the . and if you like , a...</td>\n",
       "    </tr>\n",
       "    <tr>\n",
       "      <th>4</th>\n",
       "      <td>You spin me right round wholesale I ...</td>\n",
       "    </tr>\n",
       "  </tbody>\n",
       "</table>\n",
       "</div>"
      ],
      "text/plain": [
       "                                clean_text\n",
       "0  Youll notice on the new episode comi...\n",
       "1  SOME_ENTITY SOME_ENTITY Well arent y...\n",
       "2  SOME_ENTITY SOME_ENTITY SOME_ENTITY ...\n",
       "3  Merlin for the . and if you like , a...\n",
       "4  You spin me right round wholesale I ..."
      ]
     },
     "execution_count": 11,
     "metadata": {},
     "output_type": "execute_result"
    }
   ],
   "source": [
    "# bert_test_data.shape\n",
    "# bert_test_data = bert_test_data.drop_duplicates(subset = ['clean_text'])\n",
    "\n",
    "bert_test_data.head()"
   ]
  },
  {
   "cell_type": "code",
   "execution_count": 12,
   "id": "736a4402",
   "metadata": {
    "execution": {
     "iopub.execute_input": "2023-03-08T00:37:34.987997Z",
     "iopub.status.busy": "2023-03-08T00:37:34.987619Z",
     "iopub.status.idle": "2023-03-08T00:37:34.994169Z",
     "shell.execute_reply": "2023-03-08T00:37:34.993045Z"
    },
    "papermill": {
     "duration": 0.018359,
     "end_time": "2023-03-08T00:37:34.996352",
     "exception": false,
     "start_time": "2023-03-08T00:37:34.977993",
     "status": "completed"
    },
    "tags": []
   },
   "outputs": [
    {
     "data": {
      "text/plain": [
       "(30000, 1)"
      ]
     },
     "execution_count": 12,
     "metadata": {},
     "output_type": "execute_result"
    }
   ],
   "source": [
    "bert_test_data.shape"
   ]
  },
  {
   "cell_type": "code",
   "execution_count": 13,
   "id": "5f0a9849",
   "metadata": {
    "execution": {
     "iopub.execute_input": "2023-03-08T00:37:35.014726Z",
     "iopub.status.busy": "2023-03-08T00:37:35.014316Z",
     "iopub.status.idle": "2023-03-08T00:37:35.020013Z",
     "shell.execute_reply": "2023-03-08T00:37:35.019196Z"
    },
    "papermill": {
     "duration": 0.017307,
     "end_time": "2023-03-08T00:37:35.021949",
     "exception": false,
     "start_time": "2023-03-08T00:37:35.004642",
     "status": "completed"
    },
    "tags": []
   },
   "outputs": [
    {
     "data": {
      "text/plain": [
       "(30000, 6)"
      ]
     },
     "execution_count": 13,
     "metadata": {},
     "output_type": "execute_result"
    }
   ],
   "source": [
    "raw_data.shape"
   ]
  },
  {
   "cell_type": "markdown",
   "id": "85e31589",
   "metadata": {
    "papermill": {
     "duration": 0.008124,
     "end_time": "2023-03-08T00:37:35.038621",
     "exception": false,
     "start_time": "2023-03-08T00:37:35.030497",
     "status": "completed"
    },
    "tags": []
   },
   "source": [
    "## Adding tags for BERT"
   ]
  },
  {
   "cell_type": "code",
   "execution_count": 14,
   "id": "ba20bc95",
   "metadata": {
    "execution": {
     "iopub.execute_input": "2023-03-08T00:37:35.057628Z",
     "iopub.status.busy": "2023-03-08T00:37:35.057182Z",
     "iopub.status.idle": "2023-03-08T00:37:35.126106Z",
     "shell.execute_reply": "2023-03-08T00:37:35.124684Z"
    },
    "papermill": {
     "duration": 0.08174,
     "end_time": "2023-03-08T00:37:35.129139",
     "exception": false,
     "start_time": "2023-03-08T00:37:35.047399",
     "status": "completed"
    },
    "tags": []
   },
   "outputs": [
    {
     "name": "stderr",
     "output_type": "stream",
     "text": [
      "100%|██████████| 30000/30000 [00:00<00:00, 611572.08it/s]\n"
     ]
    },
    {
     "data": {
      "text/html": [
       "<div>\n",
       "<style scoped>\n",
       "    .dataframe tbody tr th:only-of-type {\n",
       "        vertical-align: middle;\n",
       "    }\n",
       "\n",
       "    .dataframe tbody tr th {\n",
       "        vertical-align: top;\n",
       "    }\n",
       "\n",
       "    .dataframe thead th {\n",
       "        text-align: right;\n",
       "    }\n",
       "</style>\n",
       "<table border=\"1\" class=\"dataframe\">\n",
       "  <thead>\n",
       "    <tr style=\"text-align: right;\">\n",
       "      <th></th>\n",
       "      <th>clean_text</th>\n",
       "    </tr>\n",
       "  </thead>\n",
       "  <tbody>\n",
       "    <tr>\n",
       "      <th>0</th>\n",
       "      <td>[CLS] Youll notice on the new episod...</td>\n",
       "    </tr>\n",
       "    <tr>\n",
       "      <th>1</th>\n",
       "      <td>[CLS] SOME_ENTITY SOME_ENTITY Well a...</td>\n",
       "    </tr>\n",
       "    <tr>\n",
       "      <th>2</th>\n",
       "      <td>[CLS] SOME_ENTITY SOME_ENTITY SOME_E...</td>\n",
       "    </tr>\n",
       "    <tr>\n",
       "      <th>3</th>\n",
       "      <td>[CLS] Merlin for the . and if you li...</td>\n",
       "    </tr>\n",
       "    <tr>\n",
       "      <th>4</th>\n",
       "      <td>[CLS] You spin me right round wholes...</td>\n",
       "    </tr>\n",
       "  </tbody>\n",
       "</table>\n",
       "</div>"
      ],
      "text/plain": [
       "                                clean_text\n",
       "0  [CLS] Youll notice on the new episod...\n",
       "1  [CLS] SOME_ENTITY SOME_ENTITY Well a...\n",
       "2  [CLS] SOME_ENTITY SOME_ENTITY SOME_E...\n",
       "3  [CLS] Merlin for the . and if you li...\n",
       "4  [CLS] You spin me right round wholes..."
      ]
     },
     "execution_count": 14,
     "metadata": {},
     "output_type": "execute_result"
    }
   ],
   "source": [
    "bert_test_data['clean_text'] = bert_test_data['clean_text'].progress_apply(lambda tweet: \"[CLS] \" + tweet + \" [SEP]\")\n",
    "bert_test_data.head()"
   ]
  },
  {
   "cell_type": "markdown",
   "id": "a4396ac8",
   "metadata": {
    "papermill": {
     "duration": 0.008611,
     "end_time": "2023-03-08T00:37:35.146858",
     "exception": false,
     "start_time": "2023-03-08T00:37:35.138247",
     "status": "completed"
    },
    "tags": []
   },
   "source": [
    "## Generate BERT tokens"
   ]
  },
  {
   "cell_type": "code",
   "execution_count": 15,
   "id": "127b2fd5",
   "metadata": {
    "execution": {
     "iopub.execute_input": "2023-03-08T00:37:35.166247Z",
     "iopub.status.busy": "2023-03-08T00:37:35.165804Z",
     "iopub.status.idle": "2023-03-08T00:37:56.474377Z",
     "shell.execute_reply": "2023-03-08T00:37:56.473014Z"
    },
    "papermill": {
     "duration": 21.322083,
     "end_time": "2023-03-08T00:37:56.477824",
     "exception": false,
     "start_time": "2023-03-08T00:37:35.155741",
     "status": "completed"
    },
    "tags": []
   },
   "outputs": [
    {
     "name": "stderr",
     "output_type": "stream",
     "text": [
      "100%|██████████| 30000/30000 [00:20<00:00, 1480.28it/s]\n",
      "100%|██████████| 30000/30000 [00:01<00:00, 29641.77it/s]\n"
     ]
    },
    {
     "data": {
      "text/html": [
       "<div>\n",
       "<style scoped>\n",
       "    .dataframe tbody tr th:only-of-type {\n",
       "        vertical-align: middle;\n",
       "    }\n",
       "\n",
       "    .dataframe tbody tr th {\n",
       "        vertical-align: top;\n",
       "    }\n",
       "\n",
       "    .dataframe thead th {\n",
       "        text-align: right;\n",
       "    }\n",
       "</style>\n",
       "<table border=\"1\" class=\"dataframe\">\n",
       "  <thead>\n",
       "    <tr style=\"text-align: right;\">\n",
       "      <th></th>\n",
       "      <th>clean_text</th>\n",
       "      <th>token_text</th>\n",
       "      <th>indexed_tokens</th>\n",
       "    </tr>\n",
       "  </thead>\n",
       "  <tbody>\n",
       "    <tr>\n",
       "      <th>0</th>\n",
       "      <td>[CLS] Youll notice on the new episod...</td>\n",
       "      <td>[[CLS], you, ##ll, notice, on, the, ...</td>\n",
       "      <td>[101, 2017, 3363, 5060, 2006, 1996, ...</td>\n",
       "    </tr>\n",
       "    <tr>\n",
       "      <th>1</th>\n",
       "      <td>[CLS] SOME_ENTITY SOME_ENTITY Well a...</td>\n",
       "      <td>[[CLS], some, _, entity, some, _, en...</td>\n",
       "      <td>[101, 2070, 1035, 9178, 2070, 1035, ...</td>\n",
       "    </tr>\n",
       "    <tr>\n",
       "      <th>2</th>\n",
       "      <td>[CLS] SOME_ENTITY SOME_ENTITY SOME_E...</td>\n",
       "      <td>[[CLS], some, _, entity, some, _, en...</td>\n",
       "      <td>[101, 2070, 1035, 9178, 2070, 1035, ...</td>\n",
       "    </tr>\n",
       "    <tr>\n",
       "      <th>3</th>\n",
       "      <td>[CLS] Merlin for the . and if you li...</td>\n",
       "      <td>[[CLS], merlin, for, the, ., and, if...</td>\n",
       "      <td>[101, 15993, 2005, 1996, 1012, 1998,...</td>\n",
       "    </tr>\n",
       "    <tr>\n",
       "      <th>4</th>\n",
       "      <td>[CLS] You spin me right round wholes...</td>\n",
       "      <td>[[CLS], you, spin, me, right, round,...</td>\n",
       "      <td>[101, 2017, 6714, 2033, 2157, 2461, ...</td>\n",
       "    </tr>\n",
       "  </tbody>\n",
       "</table>\n",
       "</div>"
      ],
      "text/plain": [
       "                                clean_text  \\\n",
       "0  [CLS] Youll notice on the new episod...   \n",
       "1  [CLS] SOME_ENTITY SOME_ENTITY Well a...   \n",
       "2  [CLS] SOME_ENTITY SOME_ENTITY SOME_E...   \n",
       "3  [CLS] Merlin for the . and if you li...   \n",
       "4  [CLS] You spin me right round wholes...   \n",
       "\n",
       "                                token_text  \\\n",
       "0  [[CLS], you, ##ll, notice, on, the, ...   \n",
       "1  [[CLS], some, _, entity, some, _, en...   \n",
       "2  [[CLS], some, _, entity, some, _, en...   \n",
       "3  [[CLS], merlin, for, the, ., and, if...   \n",
       "4  [[CLS], you, spin, me, right, round,...   \n",
       "\n",
       "                            indexed_tokens  \n",
       "0  [101, 2017, 3363, 5060, 2006, 1996, ...  \n",
       "1  [101, 2070, 1035, 9178, 2070, 1035, ...  \n",
       "2  [101, 2070, 1035, 9178, 2070, 1035, ...  \n",
       "3  [101, 15993, 2005, 1996, 1012, 1998,...  \n",
       "4  [101, 2017, 6714, 2033, 2157, 2461, ...  "
      ]
     },
     "execution_count": 15,
     "metadata": {},
     "output_type": "execute_result"
    }
   ],
   "source": [
    "bert_test_data['token_text'] = bert_test_data['clean_text'].progress_apply(tokenizer.tokenize)\n",
    "bert_test_data.head()\n",
    "\n",
    "# Map the token strings to their vocabulary indeces.\n",
    "bert_test_data['indexed_tokens'] = bert_test_data['token_text'].progress_apply(tokenizer.convert_tokens_to_ids)\n",
    "bert_test_data.head()"
   ]
  },
  {
   "cell_type": "code",
   "execution_count": 16,
   "id": "12b988b7",
   "metadata": {
    "execution": {
     "iopub.execute_input": "2023-03-08T00:37:56.524647Z",
     "iopub.status.busy": "2023-03-08T00:37:56.524246Z",
     "iopub.status.idle": "2023-03-08T00:37:56.621690Z",
     "shell.execute_reply": "2023-03-08T00:37:56.620547Z"
    },
    "papermill": {
     "duration": 0.123348,
     "end_time": "2023-03-08T00:37:56.624313",
     "exception": false,
     "start_time": "2023-03-08T00:37:56.500965",
     "status": "completed"
    },
    "tags": []
   },
   "outputs": [
    {
     "name": "stderr",
     "output_type": "stream",
     "text": [
      "100%|██████████| 30000/30000 [00:00<00:00, 418217.57it/s]\n"
     ]
    },
    {
     "data": {
      "text/html": [
       "<div>\n",
       "<style scoped>\n",
       "    .dataframe tbody tr th:only-of-type {\n",
       "        vertical-align: middle;\n",
       "    }\n",
       "\n",
       "    .dataframe tbody tr th {\n",
       "        vertical-align: top;\n",
       "    }\n",
       "\n",
       "    .dataframe thead th {\n",
       "        text-align: right;\n",
       "    }\n",
       "</style>\n",
       "<table border=\"1\" class=\"dataframe\">\n",
       "  <thead>\n",
       "    <tr style=\"text-align: right;\">\n",
       "      <th></th>\n",
       "      <th>clean_text</th>\n",
       "      <th>token_text</th>\n",
       "      <th>indexed_tokens</th>\n",
       "      <th>segment_ids</th>\n",
       "    </tr>\n",
       "  </thead>\n",
       "  <tbody>\n",
       "    <tr>\n",
       "      <th>0</th>\n",
       "      <td>[CLS] Youll notice on the new episod...</td>\n",
       "      <td>[[CLS], you, ##ll, notice, on, the, ...</td>\n",
       "      <td>[101, 2017, 3363, 5060, 2006, 1996, ...</td>\n",
       "      <td>[1, 1, 1, 1, 1, 1, 1, 1, 1, 1, 1, 1,...</td>\n",
       "    </tr>\n",
       "    <tr>\n",
       "      <th>1</th>\n",
       "      <td>[CLS] SOME_ENTITY SOME_ENTITY Well a...</td>\n",
       "      <td>[[CLS], some, _, entity, some, _, en...</td>\n",
       "      <td>[101, 2070, 1035, 9178, 2070, 1035, ...</td>\n",
       "      <td>[1, 1, 1, 1, 1, 1, 1, 1, 1, 1, 1, 1,...</td>\n",
       "    </tr>\n",
       "    <tr>\n",
       "      <th>2</th>\n",
       "      <td>[CLS] SOME_ENTITY SOME_ENTITY SOME_E...</td>\n",
       "      <td>[[CLS], some, _, entity, some, _, en...</td>\n",
       "      <td>[101, 2070, 1035, 9178, 2070, 1035, ...</td>\n",
       "      <td>[1, 1, 1, 1, 1, 1, 1, 1, 1, 1, 1, 1,...</td>\n",
       "    </tr>\n",
       "    <tr>\n",
       "      <th>3</th>\n",
       "      <td>[CLS] Merlin for the . and if you li...</td>\n",
       "      <td>[[CLS], merlin, for, the, ., and, if...</td>\n",
       "      <td>[101, 15993, 2005, 1996, 1012, 1998,...</td>\n",
       "      <td>[1, 1, 1, 1, 1, 1, 1, 1, 1, 1, 1, 1, 1]</td>\n",
       "    </tr>\n",
       "    <tr>\n",
       "      <th>4</th>\n",
       "      <td>[CLS] You spin me right round wholes...</td>\n",
       "      <td>[[CLS], you, spin, me, right, round,...</td>\n",
       "      <td>[101, 2017, 6714, 2033, 2157, 2461, ...</td>\n",
       "      <td>[1, 1, 1, 1, 1, 1, 1, 1, 1, 1, 1, 1,...</td>\n",
       "    </tr>\n",
       "  </tbody>\n",
       "</table>\n",
       "</div>"
      ],
      "text/plain": [
       "                                clean_text  \\\n",
       "0  [CLS] Youll notice on the new episod...   \n",
       "1  [CLS] SOME_ENTITY SOME_ENTITY Well a...   \n",
       "2  [CLS] SOME_ENTITY SOME_ENTITY SOME_E...   \n",
       "3  [CLS] Merlin for the . and if you li...   \n",
       "4  [CLS] You spin me right round wholes...   \n",
       "\n",
       "                                token_text  \\\n",
       "0  [[CLS], you, ##ll, notice, on, the, ...   \n",
       "1  [[CLS], some, _, entity, some, _, en...   \n",
       "2  [[CLS], some, _, entity, some, _, en...   \n",
       "3  [[CLS], merlin, for, the, ., and, if...   \n",
       "4  [[CLS], you, spin, me, right, round,...   \n",
       "\n",
       "                            indexed_tokens  \\\n",
       "0  [101, 2017, 3363, 5060, 2006, 1996, ...   \n",
       "1  [101, 2070, 1035, 9178, 2070, 1035, ...   \n",
       "2  [101, 2070, 1035, 9178, 2070, 1035, ...   \n",
       "3  [101, 15993, 2005, 1996, 1012, 1998,...   \n",
       "4  [101, 2017, 6714, 2033, 2157, 2461, ...   \n",
       "\n",
       "                               segment_ids  \n",
       "0  [1, 1, 1, 1, 1, 1, 1, 1, 1, 1, 1, 1,...  \n",
       "1  [1, 1, 1, 1, 1, 1, 1, 1, 1, 1, 1, 1,...  \n",
       "2  [1, 1, 1, 1, 1, 1, 1, 1, 1, 1, 1, 1,...  \n",
       "3  [1, 1, 1, 1, 1, 1, 1, 1, 1, 1, 1, 1, 1]  \n",
       "4  [1, 1, 1, 1, 1, 1, 1, 1, 1, 1, 1, 1,...  "
      ]
     },
     "execution_count": 16,
     "metadata": {},
     "output_type": "execute_result"
    }
   ],
   "source": [
    "# BERT expects pairs of sentence for matching. Since we are not doing that, we ignore 0 tag and give inputs the 1 tag\n",
    "\n",
    "bert_test_data['segment_ids'] = bert_test_data['token_text'].progress_apply(lambda tweet: [1]*len(tweet))\n",
    "\n",
    "bert_test_data.head()"
   ]
  },
  {
   "cell_type": "code",
   "execution_count": 17,
   "id": "ada83e86",
   "metadata": {
    "execution": {
     "iopub.execute_input": "2023-03-08T00:37:56.670888Z",
     "iopub.status.busy": "2023-03-08T00:37:56.670457Z",
     "iopub.status.idle": "2023-03-08T00:38:07.946082Z",
     "shell.execute_reply": "2023-03-08T00:38:07.944778Z"
    },
    "papermill": {
     "duration": 11.302238,
     "end_time": "2023-03-08T00:38:07.948568",
     "exception": false,
     "start_time": "2023-03-08T00:37:56.646330",
     "status": "completed"
    },
    "tags": []
   },
   "outputs": [
    {
     "data": {
      "application/vnd.jupyter.widget-view+json": {
       "model_id": "0e548155bf35486e9d513b2cead5b8a5",
       "version_major": 2,
       "version_minor": 0
      },
      "text/plain": [
       "Downloading:   0%|          | 0.00/420M [00:00<?, ?B/s]"
      ]
     },
     "metadata": {},
     "output_type": "display_data"
    },
    {
     "name": "stderr",
     "output_type": "stream",
     "text": [
      "Some weights of the model checkpoint at bert-base-uncased were not used when initializing BertModel: ['cls.predictions.transform.LayerNorm.weight', 'cls.predictions.decoder.weight', 'cls.seq_relationship.bias', 'cls.seq_relationship.weight', 'cls.predictions.transform.dense.weight', 'cls.predictions.bias', 'cls.predictions.transform.dense.bias', 'cls.predictions.transform.LayerNorm.bias']\n",
      "- This IS expected if you are initializing BertModel from the checkpoint of a model trained on another task or with another architecture (e.g. initializing a BertForSequenceClassification model from a BertForPreTraining model).\n",
      "- This IS NOT expected if you are initializing BertModel from the checkpoint of a model that you expect to be exactly identical (initializing a BertForSequenceClassification model from a BertForSequenceClassification model).\n"
     ]
    },
    {
     "data": {
      "text/plain": [
       "BertModel(\n",
       "  (embeddings): BertEmbeddings(\n",
       "    (word_embeddings): Embedding(30522, 768, padding_idx=0)\n",
       "    (position_embeddings): Embedding(512, 768)\n",
       "    (token_type_embeddings): Embedding(2, 768)\n",
       "    (LayerNorm): LayerNorm((768,), eps=1e-12, elementwise_affine=True)\n",
       "    (dropout): Dropout(p=0.1, inplace=False)\n",
       "  )\n",
       "  (encoder): BertEncoder(\n",
       "    (layer): ModuleList(\n",
       "      (0): BertLayer(\n",
       "        (attention): BertAttention(\n",
       "          (self): BertSelfAttention(\n",
       "            (query): Linear(in_features=768, out_features=768, bias=True)\n",
       "            (key): Linear(in_features=768, out_features=768, bias=True)\n",
       "            (value): Linear(in_features=768, out_features=768, bias=True)\n",
       "            (dropout): Dropout(p=0.1, inplace=False)\n",
       "          )\n",
       "          (output): BertSelfOutput(\n",
       "            (dense): Linear(in_features=768, out_features=768, bias=True)\n",
       "            (LayerNorm): LayerNorm((768,), eps=1e-12, elementwise_affine=True)\n",
       "            (dropout): Dropout(p=0.1, inplace=False)\n",
       "          )\n",
       "        )\n",
       "        (intermediate): BertIntermediate(\n",
       "          (dense): Linear(in_features=768, out_features=3072, bias=True)\n",
       "          (intermediate_act_fn): GELUActivation()\n",
       "        )\n",
       "        (output): BertOutput(\n",
       "          (dense): Linear(in_features=3072, out_features=768, bias=True)\n",
       "          (LayerNorm): LayerNorm((768,), eps=1e-12, elementwise_affine=True)\n",
       "          (dropout): Dropout(p=0.1, inplace=False)\n",
       "        )\n",
       "      )\n",
       "      (1): BertLayer(\n",
       "        (attention): BertAttention(\n",
       "          (self): BertSelfAttention(\n",
       "            (query): Linear(in_features=768, out_features=768, bias=True)\n",
       "            (key): Linear(in_features=768, out_features=768, bias=True)\n",
       "            (value): Linear(in_features=768, out_features=768, bias=True)\n",
       "            (dropout): Dropout(p=0.1, inplace=False)\n",
       "          )\n",
       "          (output): BertSelfOutput(\n",
       "            (dense): Linear(in_features=768, out_features=768, bias=True)\n",
       "            (LayerNorm): LayerNorm((768,), eps=1e-12, elementwise_affine=True)\n",
       "            (dropout): Dropout(p=0.1, inplace=False)\n",
       "          )\n",
       "        )\n",
       "        (intermediate): BertIntermediate(\n",
       "          (dense): Linear(in_features=768, out_features=3072, bias=True)\n",
       "          (intermediate_act_fn): GELUActivation()\n",
       "        )\n",
       "        (output): BertOutput(\n",
       "          (dense): Linear(in_features=3072, out_features=768, bias=True)\n",
       "          (LayerNorm): LayerNorm((768,), eps=1e-12, elementwise_affine=True)\n",
       "          (dropout): Dropout(p=0.1, inplace=False)\n",
       "        )\n",
       "      )\n",
       "      (2): BertLayer(\n",
       "        (attention): BertAttention(\n",
       "          (self): BertSelfAttention(\n",
       "            (query): Linear(in_features=768, out_features=768, bias=True)\n",
       "            (key): Linear(in_features=768, out_features=768, bias=True)\n",
       "            (value): Linear(in_features=768, out_features=768, bias=True)\n",
       "            (dropout): Dropout(p=0.1, inplace=False)\n",
       "          )\n",
       "          (output): BertSelfOutput(\n",
       "            (dense): Linear(in_features=768, out_features=768, bias=True)\n",
       "            (LayerNorm): LayerNorm((768,), eps=1e-12, elementwise_affine=True)\n",
       "            (dropout): Dropout(p=0.1, inplace=False)\n",
       "          )\n",
       "        )\n",
       "        (intermediate): BertIntermediate(\n",
       "          (dense): Linear(in_features=768, out_features=3072, bias=True)\n",
       "          (intermediate_act_fn): GELUActivation()\n",
       "        )\n",
       "        (output): BertOutput(\n",
       "          (dense): Linear(in_features=3072, out_features=768, bias=True)\n",
       "          (LayerNorm): LayerNorm((768,), eps=1e-12, elementwise_affine=True)\n",
       "          (dropout): Dropout(p=0.1, inplace=False)\n",
       "        )\n",
       "      )\n",
       "      (3): BertLayer(\n",
       "        (attention): BertAttention(\n",
       "          (self): BertSelfAttention(\n",
       "            (query): Linear(in_features=768, out_features=768, bias=True)\n",
       "            (key): Linear(in_features=768, out_features=768, bias=True)\n",
       "            (value): Linear(in_features=768, out_features=768, bias=True)\n",
       "            (dropout): Dropout(p=0.1, inplace=False)\n",
       "          )\n",
       "          (output): BertSelfOutput(\n",
       "            (dense): Linear(in_features=768, out_features=768, bias=True)\n",
       "            (LayerNorm): LayerNorm((768,), eps=1e-12, elementwise_affine=True)\n",
       "            (dropout): Dropout(p=0.1, inplace=False)\n",
       "          )\n",
       "        )\n",
       "        (intermediate): BertIntermediate(\n",
       "          (dense): Linear(in_features=768, out_features=3072, bias=True)\n",
       "          (intermediate_act_fn): GELUActivation()\n",
       "        )\n",
       "        (output): BertOutput(\n",
       "          (dense): Linear(in_features=3072, out_features=768, bias=True)\n",
       "          (LayerNorm): LayerNorm((768,), eps=1e-12, elementwise_affine=True)\n",
       "          (dropout): Dropout(p=0.1, inplace=False)\n",
       "        )\n",
       "      )\n",
       "      (4): BertLayer(\n",
       "        (attention): BertAttention(\n",
       "          (self): BertSelfAttention(\n",
       "            (query): Linear(in_features=768, out_features=768, bias=True)\n",
       "            (key): Linear(in_features=768, out_features=768, bias=True)\n",
       "            (value): Linear(in_features=768, out_features=768, bias=True)\n",
       "            (dropout): Dropout(p=0.1, inplace=False)\n",
       "          )\n",
       "          (output): BertSelfOutput(\n",
       "            (dense): Linear(in_features=768, out_features=768, bias=True)\n",
       "            (LayerNorm): LayerNorm((768,), eps=1e-12, elementwise_affine=True)\n",
       "            (dropout): Dropout(p=0.1, inplace=False)\n",
       "          )\n",
       "        )\n",
       "        (intermediate): BertIntermediate(\n",
       "          (dense): Linear(in_features=768, out_features=3072, bias=True)\n",
       "          (intermediate_act_fn): GELUActivation()\n",
       "        )\n",
       "        (output): BertOutput(\n",
       "          (dense): Linear(in_features=3072, out_features=768, bias=True)\n",
       "          (LayerNorm): LayerNorm((768,), eps=1e-12, elementwise_affine=True)\n",
       "          (dropout): Dropout(p=0.1, inplace=False)\n",
       "        )\n",
       "      )\n",
       "      (5): BertLayer(\n",
       "        (attention): BertAttention(\n",
       "          (self): BertSelfAttention(\n",
       "            (query): Linear(in_features=768, out_features=768, bias=True)\n",
       "            (key): Linear(in_features=768, out_features=768, bias=True)\n",
       "            (value): Linear(in_features=768, out_features=768, bias=True)\n",
       "            (dropout): Dropout(p=0.1, inplace=False)\n",
       "          )\n",
       "          (output): BertSelfOutput(\n",
       "            (dense): Linear(in_features=768, out_features=768, bias=True)\n",
       "            (LayerNorm): LayerNorm((768,), eps=1e-12, elementwise_affine=True)\n",
       "            (dropout): Dropout(p=0.1, inplace=False)\n",
       "          )\n",
       "        )\n",
       "        (intermediate): BertIntermediate(\n",
       "          (dense): Linear(in_features=768, out_features=3072, bias=True)\n",
       "          (intermediate_act_fn): GELUActivation()\n",
       "        )\n",
       "        (output): BertOutput(\n",
       "          (dense): Linear(in_features=3072, out_features=768, bias=True)\n",
       "          (LayerNorm): LayerNorm((768,), eps=1e-12, elementwise_affine=True)\n",
       "          (dropout): Dropout(p=0.1, inplace=False)\n",
       "        )\n",
       "      )\n",
       "      (6): BertLayer(\n",
       "        (attention): BertAttention(\n",
       "          (self): BertSelfAttention(\n",
       "            (query): Linear(in_features=768, out_features=768, bias=True)\n",
       "            (key): Linear(in_features=768, out_features=768, bias=True)\n",
       "            (value): Linear(in_features=768, out_features=768, bias=True)\n",
       "            (dropout): Dropout(p=0.1, inplace=False)\n",
       "          )\n",
       "          (output): BertSelfOutput(\n",
       "            (dense): Linear(in_features=768, out_features=768, bias=True)\n",
       "            (LayerNorm): LayerNorm((768,), eps=1e-12, elementwise_affine=True)\n",
       "            (dropout): Dropout(p=0.1, inplace=False)\n",
       "          )\n",
       "        )\n",
       "        (intermediate): BertIntermediate(\n",
       "          (dense): Linear(in_features=768, out_features=3072, bias=True)\n",
       "          (intermediate_act_fn): GELUActivation()\n",
       "        )\n",
       "        (output): BertOutput(\n",
       "          (dense): Linear(in_features=3072, out_features=768, bias=True)\n",
       "          (LayerNorm): LayerNorm((768,), eps=1e-12, elementwise_affine=True)\n",
       "          (dropout): Dropout(p=0.1, inplace=False)\n",
       "        )\n",
       "      )\n",
       "      (7): BertLayer(\n",
       "        (attention): BertAttention(\n",
       "          (self): BertSelfAttention(\n",
       "            (query): Linear(in_features=768, out_features=768, bias=True)\n",
       "            (key): Linear(in_features=768, out_features=768, bias=True)\n",
       "            (value): Linear(in_features=768, out_features=768, bias=True)\n",
       "            (dropout): Dropout(p=0.1, inplace=False)\n",
       "          )\n",
       "          (output): BertSelfOutput(\n",
       "            (dense): Linear(in_features=768, out_features=768, bias=True)\n",
       "            (LayerNorm): LayerNorm((768,), eps=1e-12, elementwise_affine=True)\n",
       "            (dropout): Dropout(p=0.1, inplace=False)\n",
       "          )\n",
       "        )\n",
       "        (intermediate): BertIntermediate(\n",
       "          (dense): Linear(in_features=768, out_features=3072, bias=True)\n",
       "          (intermediate_act_fn): GELUActivation()\n",
       "        )\n",
       "        (output): BertOutput(\n",
       "          (dense): Linear(in_features=3072, out_features=768, bias=True)\n",
       "          (LayerNorm): LayerNorm((768,), eps=1e-12, elementwise_affine=True)\n",
       "          (dropout): Dropout(p=0.1, inplace=False)\n",
       "        )\n",
       "      )\n",
       "      (8): BertLayer(\n",
       "        (attention): BertAttention(\n",
       "          (self): BertSelfAttention(\n",
       "            (query): Linear(in_features=768, out_features=768, bias=True)\n",
       "            (key): Linear(in_features=768, out_features=768, bias=True)\n",
       "            (value): Linear(in_features=768, out_features=768, bias=True)\n",
       "            (dropout): Dropout(p=0.1, inplace=False)\n",
       "          )\n",
       "          (output): BertSelfOutput(\n",
       "            (dense): Linear(in_features=768, out_features=768, bias=True)\n",
       "            (LayerNorm): LayerNorm((768,), eps=1e-12, elementwise_affine=True)\n",
       "            (dropout): Dropout(p=0.1, inplace=False)\n",
       "          )\n",
       "        )\n",
       "        (intermediate): BertIntermediate(\n",
       "          (dense): Linear(in_features=768, out_features=3072, bias=True)\n",
       "          (intermediate_act_fn): GELUActivation()\n",
       "        )\n",
       "        (output): BertOutput(\n",
       "          (dense): Linear(in_features=3072, out_features=768, bias=True)\n",
       "          (LayerNorm): LayerNorm((768,), eps=1e-12, elementwise_affine=True)\n",
       "          (dropout): Dropout(p=0.1, inplace=False)\n",
       "        )\n",
       "      )\n",
       "      (9): BertLayer(\n",
       "        (attention): BertAttention(\n",
       "          (self): BertSelfAttention(\n",
       "            (query): Linear(in_features=768, out_features=768, bias=True)\n",
       "            (key): Linear(in_features=768, out_features=768, bias=True)\n",
       "            (value): Linear(in_features=768, out_features=768, bias=True)\n",
       "            (dropout): Dropout(p=0.1, inplace=False)\n",
       "          )\n",
       "          (output): BertSelfOutput(\n",
       "            (dense): Linear(in_features=768, out_features=768, bias=True)\n",
       "            (LayerNorm): LayerNorm((768,), eps=1e-12, elementwise_affine=True)\n",
       "            (dropout): Dropout(p=0.1, inplace=False)\n",
       "          )\n",
       "        )\n",
       "        (intermediate): BertIntermediate(\n",
       "          (dense): Linear(in_features=768, out_features=3072, bias=True)\n",
       "          (intermediate_act_fn): GELUActivation()\n",
       "        )\n",
       "        (output): BertOutput(\n",
       "          (dense): Linear(in_features=3072, out_features=768, bias=True)\n",
       "          (LayerNorm): LayerNorm((768,), eps=1e-12, elementwise_affine=True)\n",
       "          (dropout): Dropout(p=0.1, inplace=False)\n",
       "        )\n",
       "      )\n",
       "      (10): BertLayer(\n",
       "        (attention): BertAttention(\n",
       "          (self): BertSelfAttention(\n",
       "            (query): Linear(in_features=768, out_features=768, bias=True)\n",
       "            (key): Linear(in_features=768, out_features=768, bias=True)\n",
       "            (value): Linear(in_features=768, out_features=768, bias=True)\n",
       "            (dropout): Dropout(p=0.1, inplace=False)\n",
       "          )\n",
       "          (output): BertSelfOutput(\n",
       "            (dense): Linear(in_features=768, out_features=768, bias=True)\n",
       "            (LayerNorm): LayerNorm((768,), eps=1e-12, elementwise_affine=True)\n",
       "            (dropout): Dropout(p=0.1, inplace=False)\n",
       "          )\n",
       "        )\n",
       "        (intermediate): BertIntermediate(\n",
       "          (dense): Linear(in_features=768, out_features=3072, bias=True)\n",
       "          (intermediate_act_fn): GELUActivation()\n",
       "        )\n",
       "        (output): BertOutput(\n",
       "          (dense): Linear(in_features=3072, out_features=768, bias=True)\n",
       "          (LayerNorm): LayerNorm((768,), eps=1e-12, elementwise_affine=True)\n",
       "          (dropout): Dropout(p=0.1, inplace=False)\n",
       "        )\n",
       "      )\n",
       "      (11): BertLayer(\n",
       "        (attention): BertAttention(\n",
       "          (self): BertSelfAttention(\n",
       "            (query): Linear(in_features=768, out_features=768, bias=True)\n",
       "            (key): Linear(in_features=768, out_features=768, bias=True)\n",
       "            (value): Linear(in_features=768, out_features=768, bias=True)\n",
       "            (dropout): Dropout(p=0.1, inplace=False)\n",
       "          )\n",
       "          (output): BertSelfOutput(\n",
       "            (dense): Linear(in_features=768, out_features=768, bias=True)\n",
       "            (LayerNorm): LayerNorm((768,), eps=1e-12, elementwise_affine=True)\n",
       "            (dropout): Dropout(p=0.1, inplace=False)\n",
       "          )\n",
       "        )\n",
       "        (intermediate): BertIntermediate(\n",
       "          (dense): Linear(in_features=768, out_features=3072, bias=True)\n",
       "          (intermediate_act_fn): GELUActivation()\n",
       "        )\n",
       "        (output): BertOutput(\n",
       "          (dense): Linear(in_features=3072, out_features=768, bias=True)\n",
       "          (LayerNorm): LayerNorm((768,), eps=1e-12, elementwise_affine=True)\n",
       "          (dropout): Dropout(p=0.1, inplace=False)\n",
       "        )\n",
       "      )\n",
       "    )\n",
       "  )\n",
       "  (pooler): BertPooler(\n",
       "    (dense): Linear(in_features=768, out_features=768, bias=True)\n",
       "    (activation): Tanh()\n",
       "  )\n",
       ")"
      ]
     },
     "execution_count": 17,
     "metadata": {},
     "output_type": "execute_result"
    }
   ],
   "source": [
    "# Load pre-trained model (weights)\n",
    "model = BertModel.from_pretrained('bert-base-uncased',\n",
    "                                  output_hidden_states = True, # Whether the model returns all hidden-states.\n",
    "                                  )\n",
    "\n",
    "# Put the model in \"evaluation\" mode, meaning feed-forward operation.\n",
    "model.eval()\n",
    "    "
   ]
  },
  {
   "cell_type": "code",
   "execution_count": 18,
   "id": "13a4de3e",
   "metadata": {
    "execution": {
     "iopub.execute_input": "2023-03-08T00:38:07.998129Z",
     "iopub.status.busy": "2023-03-08T00:38:07.997097Z",
     "iopub.status.idle": "2023-03-08T00:38:08.004352Z",
     "shell.execute_reply": "2023-03-08T00:38:08.003428Z"
    },
    "papermill": {
     "duration": 0.034116,
     "end_time": "2023-03-08T00:38:08.006738",
     "exception": false,
     "start_time": "2023-03-08T00:38:07.972622",
     "status": "completed"
    },
    "tags": []
   },
   "outputs": [],
   "source": [
    "# Use the model to extract the information from final layers\n",
    "\n",
    "def extract_bert_embeddings(indexed_tokens, segment_ids):\n",
    "    tokens_tensor = torch.tensor([indexed_tokens])\n",
    "    segment_tensor = torch.tensor([segment_ids]) \n",
    "    # print(\"Token size: %d | Segment size: %d\" %(len(indexed_tokens), len(segment_ids)))\n",
    "    \n",
    "    with torch.no_grad():\n",
    "        outputs = model(tokens_tensor, segment_tensor)\n",
    "\n",
    "        # Evaluating the model will return a different number of objects based on \n",
    "        # how it's  configured in the `from_pretrained` call earlier. In this case, \n",
    "        # becase we set `output_hidden_states = True`, the third item will be the \n",
    "        # hidden states from all layers. See the documentation for more details:\n",
    "        # https://huggingface.co/transformers/model_doc/bert.html#bertmodel\n",
    "        hidden_states = outputs[2]\n",
    "\n",
    "        # Extract the mean of last 2nd layer as word embeddings.\n",
    "        # Can tweak this to get mean of last 4 layers or a concatenation\n",
    "        embedding = torch.mean(hidden_states[-2][0], dim = 0) \n",
    "\n",
    "        # print(embedding)\n",
    "        return embedding.tolist()\n"
   ]
  },
  {
   "cell_type": "code",
   "execution_count": 19,
   "id": "47af029c",
   "metadata": {
    "execution": {
     "iopub.execute_input": "2023-03-08T00:38:08.055236Z",
     "iopub.status.busy": "2023-03-08T00:38:08.054805Z",
     "iopub.status.idle": "2023-03-08T00:38:08.075212Z",
     "shell.execute_reply": "2023-03-08T00:38:08.073978Z"
    },
    "papermill": {
     "duration": 0.047153,
     "end_time": "2023-03-08T00:38:08.077539",
     "exception": false,
     "start_time": "2023-03-08T00:38:08.030386",
     "status": "completed"
    },
    "tags": []
   },
   "outputs": [
    {
     "data": {
      "text/html": [
       "<div>\n",
       "<style scoped>\n",
       "    .dataframe tbody tr th:only-of-type {\n",
       "        vertical-align: middle;\n",
       "    }\n",
       "\n",
       "    .dataframe tbody tr th {\n",
       "        vertical-align: top;\n",
       "    }\n",
       "\n",
       "    .dataframe thead th {\n",
       "        text-align: right;\n",
       "    }\n",
       "</style>\n",
       "<table border=\"1\" class=\"dataframe\">\n",
       "  <thead>\n",
       "    <tr style=\"text-align: right;\">\n",
       "      <th></th>\n",
       "      <th>clean_text</th>\n",
       "      <th>token_text</th>\n",
       "      <th>indexed_tokens</th>\n",
       "      <th>segment_ids</th>\n",
       "    </tr>\n",
       "  </thead>\n",
       "  <tbody>\n",
       "    <tr>\n",
       "      <th>0</th>\n",
       "      <td>[CLS] Youll notice on the new episod...</td>\n",
       "      <td>[[CLS], you, ##ll, notice, on, the, ...</td>\n",
       "      <td>[101, 2017, 3363, 5060, 2006, 1996, ...</td>\n",
       "      <td>[1, 1, 1, 1, 1, 1, 1, 1, 1, 1, 1, 1,...</td>\n",
       "    </tr>\n",
       "    <tr>\n",
       "      <th>1</th>\n",
       "      <td>[CLS] SOME_ENTITY SOME_ENTITY Well a...</td>\n",
       "      <td>[[CLS], some, _, entity, some, _, en...</td>\n",
       "      <td>[101, 2070, 1035, 9178, 2070, 1035, ...</td>\n",
       "      <td>[1, 1, 1, 1, 1, 1, 1, 1, 1, 1, 1, 1,...</td>\n",
       "    </tr>\n",
       "    <tr>\n",
       "      <th>2</th>\n",
       "      <td>[CLS] SOME_ENTITY SOME_ENTITY SOME_E...</td>\n",
       "      <td>[[CLS], some, _, entity, some, _, en...</td>\n",
       "      <td>[101, 2070, 1035, 9178, 2070, 1035, ...</td>\n",
       "      <td>[1, 1, 1, 1, 1, 1, 1, 1, 1, 1, 1, 1,...</td>\n",
       "    </tr>\n",
       "    <tr>\n",
       "      <th>3</th>\n",
       "      <td>[CLS] Merlin for the . and if you li...</td>\n",
       "      <td>[[CLS], merlin, for, the, ., and, if...</td>\n",
       "      <td>[101, 15993, 2005, 1996, 1012, 1998,...</td>\n",
       "      <td>[1, 1, 1, 1, 1, 1, 1, 1, 1, 1, 1, 1, 1]</td>\n",
       "    </tr>\n",
       "    <tr>\n",
       "      <th>4</th>\n",
       "      <td>[CLS] You spin me right round wholes...</td>\n",
       "      <td>[[CLS], you, spin, me, right, round,...</td>\n",
       "      <td>[101, 2017, 6714, 2033, 2157, 2461, ...</td>\n",
       "      <td>[1, 1, 1, 1, 1, 1, 1, 1, 1, 1, 1, 1,...</td>\n",
       "    </tr>\n",
       "  </tbody>\n",
       "</table>\n",
       "</div>"
      ],
      "text/plain": [
       "                                clean_text  \\\n",
       "0  [CLS] Youll notice on the new episod...   \n",
       "1  [CLS] SOME_ENTITY SOME_ENTITY Well a...   \n",
       "2  [CLS] SOME_ENTITY SOME_ENTITY SOME_E...   \n",
       "3  [CLS] Merlin for the . and if you li...   \n",
       "4  [CLS] You spin me right round wholes...   \n",
       "\n",
       "                                token_text  \\\n",
       "0  [[CLS], you, ##ll, notice, on, the, ...   \n",
       "1  [[CLS], some, _, entity, some, _, en...   \n",
       "2  [[CLS], some, _, entity, some, _, en...   \n",
       "3  [[CLS], merlin, for, the, ., and, if...   \n",
       "4  [[CLS], you, spin, me, right, round,...   \n",
       "\n",
       "                            indexed_tokens  \\\n",
       "0  [101, 2017, 3363, 5060, 2006, 1996, ...   \n",
       "1  [101, 2070, 1035, 9178, 2070, 1035, ...   \n",
       "2  [101, 2070, 1035, 9178, 2070, 1035, ...   \n",
       "3  [101, 15993, 2005, 1996, 1012, 1998,...   \n",
       "4  [101, 2017, 6714, 2033, 2157, 2461, ...   \n",
       "\n",
       "                               segment_ids  \n",
       "0  [1, 1, 1, 1, 1, 1, 1, 1, 1, 1, 1, 1,...  \n",
       "1  [1, 1, 1, 1, 1, 1, 1, 1, 1, 1, 1, 1,...  \n",
       "2  [1, 1, 1, 1, 1, 1, 1, 1, 1, 1, 1, 1,...  \n",
       "3  [1, 1, 1, 1, 1, 1, 1, 1, 1, 1, 1, 1, 1]  \n",
       "4  [1, 1, 1, 1, 1, 1, 1, 1, 1, 1, 1, 1,...  "
      ]
     },
     "execution_count": 19,
     "metadata": {},
     "output_type": "execute_result"
    }
   ],
   "source": [
    "bert_test_data.head()"
   ]
  },
  {
   "cell_type": "code",
   "execution_count": 20,
   "id": "06aa54f8",
   "metadata": {
    "execution": {
     "iopub.execute_input": "2023-03-08T00:38:08.126968Z",
     "iopub.status.busy": "2023-03-08T00:38:08.126518Z",
     "iopub.status.idle": "2023-03-08T01:12:43.839524Z",
     "shell.execute_reply": "2023-03-08T01:12:43.838177Z"
    },
    "papermill": {
     "duration": 2075.74132,
     "end_time": "2023-03-08T01:12:43.842361",
     "exception": false,
     "start_time": "2023-03-08T00:38:08.101041",
     "status": "completed"
    },
    "tags": []
   },
   "outputs": [
    {
     "name": "stderr",
     "output_type": "stream",
     "text": [
      " 57%|█████▋    | 1698/3000 [20:05<12:33,  1.73it/s]"
     ]
    },
    {
     "name": "stdout",
     "output_type": "stream",
     "text": [
      "Error at index b/w 16970 and 16979. Skipped processing\n"
     ]
    },
    {
     "name": "stderr",
     "output_type": "stream",
     "text": [
      " 65%|██████▍   | 1938/3000 [22:57<11:57,  1.48it/s]"
     ]
    },
    {
     "name": "stdout",
     "output_type": "stream",
     "text": [
      "Error at index b/w 19380 and 19389. Skipped processing\n"
     ]
    },
    {
     "name": "stderr",
     "output_type": "stream",
     "text": [
      " 80%|███████▉  | 2392/3000 [28:11<06:32,  1.55it/s]"
     ]
    },
    {
     "name": "stdout",
     "output_type": "stream",
     "text": [
      "Error at index b/w 23910 and 23919. Skipped processing\n"
     ]
    },
    {
     "name": "stderr",
     "output_type": "stream",
     "text": [
      " 80%|████████  | 2407/3000 [28:21<06:53,  1.43it/s]"
     ]
    },
    {
     "name": "stdout",
     "output_type": "stream",
     "text": [
      "Error at index b/w 24070 and 24079. Skipped processing\n"
     ]
    },
    {
     "name": "stderr",
     "output_type": "stream",
     "text": [
      " 84%|████████▍ | 2521/3000 [29:35<05:13,  1.53it/s]"
     ]
    },
    {
     "name": "stdout",
     "output_type": "stream",
     "text": [
      "Error at index b/w 25210 and 25219. Skipped processing\n"
     ]
    },
    {
     "name": "stderr",
     "output_type": "stream",
     "text": [
      " 85%|████████▌ | 2563/3000 [30:00<04:22,  1.67it/s]"
     ]
    },
    {
     "name": "stdout",
     "output_type": "stream",
     "text": [
      "Error at index b/w 25620 and 25629. Skipped processing\n"
     ]
    },
    {
     "name": "stderr",
     "output_type": "stream",
     "text": [
      " 87%|████████▋ | 2602/3000 [30:25<03:44,  1.77it/s]"
     ]
    },
    {
     "name": "stdout",
     "output_type": "stream",
     "text": [
      "Error at index b/w 26010 and 26019. Skipped processing\n"
     ]
    },
    {
     "name": "stderr",
     "output_type": "stream",
     "text": [
      " 87%|████████▋ | 2604/3000 [30:26<03:47,  1.74it/s]"
     ]
    },
    {
     "name": "stdout",
     "output_type": "stream",
     "text": [
      "Error at index b/w 26030 and 26039. Skipped processing\n"
     ]
    },
    {
     "name": "stderr",
     "output_type": "stream",
     "text": [
      " 88%|████████▊ | 2653/3000 [30:55<03:15,  1.77it/s]"
     ]
    },
    {
     "name": "stdout",
     "output_type": "stream",
     "text": [
      "Error at index b/w 26520 and 26529. Skipped processing\n"
     ]
    },
    {
     "name": "stderr",
     "output_type": "stream",
     "text": [
      "100%|██████████| 3000/3000 [34:35<00:00,  1.45it/s]\n"
     ]
    }
   ],
   "source": [
    "# bert_test_data.assign(bert_embedding_1_layer = lambda info: extract_bert_embeddings(info['indexed_tokens'], info['segment_ids']))\n",
    "# bert_test_data.head()\n",
    "\n",
    "error_idx = list()\n",
    "temp = bert_test_data.loc[:,['indexed_tokens','segment_ids']]\n",
    "\n",
    "# Running in batches to prevent complete loss of data\n",
    "for i in tqdm(range(0,30000,10)):\n",
    "    start = i\n",
    "    end = i+9\n",
    "#     temp.loc[start:end,'bert_emb_768'] = temp.loc[start:end,:].apply(lambda x: extract_bert_embeddings(x.indexed_tokens, x.segment_ids), axis=1)\n",
    "    try:\n",
    "        temp.loc[start:end,'bert_emb_768'] = temp.loc[start:end,:].apply(lambda x: extract_bert_embeddings(x.indexed_tokens, x.segment_ids), axis=1)\n",
    "    except RuntimeError:\n",
    "        print(f'Error at index b/w {start} and {end}. Skipped processing')\n",
    "        continue\n",
    "\n",
    "# OLD CODE\n",
    "# for indexed_tokens,segment_ids in tqdm(zip(bert_test_data['indexed_tokens'], bert_test_data['segment_ids'])):\n",
    "#     bert_word_embeddings.append(extract_bert_embeddings(indexed_tokens, segment_ids))\n"
   ]
  },
  {
   "cell_type": "markdown",
   "id": "eaf34b59",
   "metadata": {
    "papermill": {
     "duration": 0.208682,
     "end_time": "2023-03-08T01:12:44.258452",
     "exception": false,
     "start_time": "2023-03-08T01:12:44.049770",
     "status": "completed"
    },
    "tags": []
   },
   "source": [
    "# Combine with main data and export"
   ]
  },
  {
   "cell_type": "code",
   "execution_count": 21,
   "id": "121c6d66",
   "metadata": {
    "execution": {
     "iopub.execute_input": "2023-03-08T01:12:44.680460Z",
     "iopub.status.busy": "2023-03-08T01:12:44.679835Z",
     "iopub.status.idle": "2023-03-08T01:12:44.685949Z",
     "shell.execute_reply": "2023-03-08T01:12:44.684832Z"
    },
    "papermill": {
     "duration": 0.220353,
     "end_time": "2023-03-08T01:12:44.688255",
     "exception": false,
     "start_time": "2023-03-08T01:12:44.467902",
     "status": "completed"
    },
    "tags": []
   },
   "outputs": [],
   "source": [
    "raw_data['bert_emb_768'] = temp['bert_emb_768']"
   ]
  },
  {
   "cell_type": "code",
   "execution_count": 22,
   "id": "f52150a5",
   "metadata": {
    "execution": {
     "iopub.execute_input": "2023-03-08T01:12:45.107321Z",
     "iopub.status.busy": "2023-03-08T01:12:45.106065Z",
     "iopub.status.idle": "2023-03-08T01:12:47.568381Z",
     "shell.execute_reply": "2023-03-08T01:12:47.567111Z"
    },
    "papermill": {
     "duration": 2.675922,
     "end_time": "2023-03-08T01:12:47.571185",
     "exception": false,
     "start_time": "2023-03-08T01:12:44.895263",
     "status": "completed"
    },
    "tags": []
   },
   "outputs": [],
   "source": [
    "# Export the numpy array\n",
    "# Need to convert to pandas for export\n",
    "\n",
    "raw_data.to_parquet(path = '/kaggle/working/clean_data_p2_w_bert.parquet')"
   ]
  }
 ],
 "metadata": {
  "kernelspec": {
   "display_name": "Python 3",
   "language": "python",
   "name": "python3"
  },
  "language_info": {
   "codemirror_mode": {
    "name": "ipython",
    "version": 3
   },
   "file_extension": ".py",
   "mimetype": "text/x-python",
   "name": "python",
   "nbconvert_exporter": "python",
   "pygments_lexer": "ipython3",
   "version": "3.7.12"
  },
  "papermill": {
   "default_parameters": {},
   "duration": 2130.873386,
   "end_time": "2023-03-08T01:12:49.613629",
   "environment_variables": {},
   "exception": null,
   "input_path": "__notebook__.ipynb",
   "output_path": "__notebook__.ipynb",
   "parameters": {},
   "start_time": "2023-03-08T00:37:18.740243",
   "version": "2.3.4"
  },
  "widgets": {
   "application/vnd.jupyter.widget-state+json": {
    "state": {
     "0d0123aa369644f39d2635b0607adea1": {
      "model_module": "@jupyter-widgets/base",
      "model_module_version": "1.2.0",
      "model_name": "LayoutModel",
      "state": {
       "_model_module": "@jupyter-widgets/base",
       "_model_module_version": "1.2.0",
       "_model_name": "LayoutModel",
       "_view_count": null,
       "_view_module": "@jupyter-widgets/base",
       "_view_module_version": "1.2.0",
       "_view_name": "LayoutView",
       "align_content": null,
       "align_items": null,
       "align_self": null,
       "border": null,
       "bottom": null,
       "display": null,
       "flex": null,
       "flex_flow": null,
       "grid_area": null,
       "grid_auto_columns": null,
       "grid_auto_flow": null,
       "grid_auto_rows": null,
       "grid_column": null,
       "grid_gap": null,
       "grid_row": null,
       "grid_template_areas": null,
       "grid_template_columns": null,
       "grid_template_rows": null,
       "height": null,
       "justify_content": null,
       "justify_items": null,
       "left": null,
       "margin": null,
       "max_height": null,
       "max_width": null,
       "min_height": null,
       "min_width": null,
       "object_fit": null,
       "object_position": null,
       "order": null,
       "overflow": null,
       "overflow_x": null,
       "overflow_y": null,
       "padding": null,
       "right": null,
       "top": null,
       "visibility": null,
       "width": null
      }
     },
     "0e548155bf35486e9d513b2cead5b8a5": {
      "model_module": "@jupyter-widgets/controls",
      "model_module_version": "1.5.0",
      "model_name": "HBoxModel",
      "state": {
       "_dom_classes": [],
       "_model_module": "@jupyter-widgets/controls",
       "_model_module_version": "1.5.0",
       "_model_name": "HBoxModel",
       "_view_count": null,
       "_view_module": "@jupyter-widgets/controls",
       "_view_module_version": "1.5.0",
       "_view_name": "HBoxView",
       "box_style": "",
       "children": [
        "IPY_MODEL_a465f9b8ac834691aae75199d1fff59f",
        "IPY_MODEL_5625494fd764492699958dfcaf015d79",
        "IPY_MODEL_40f29ba112f948fda984319e6ac83c45"
       ],
       "layout": "IPY_MODEL_2525bba2b2d04884aee4a0e401f99577"
      }
     },
     "0fe1ff6a1c5a4143b530b4c65d7fd3b9": {
      "model_module": "@jupyter-widgets/controls",
      "model_module_version": "1.5.0",
      "model_name": "HTMLModel",
      "state": {
       "_dom_classes": [],
       "_model_module": "@jupyter-widgets/controls",
       "_model_module_version": "1.5.0",
       "_model_name": "HTMLModel",
       "_view_count": null,
       "_view_module": "@jupyter-widgets/controls",
       "_view_module_version": "1.5.0",
       "_view_name": "HTMLView",
       "description": "",
       "description_tooltip": null,
       "layout": "IPY_MODEL_84a391d68ed4459cac9eb6dc0521a283",
       "placeholder": "​",
       "style": "IPY_MODEL_6db52fd8a56349148b1f76ab6d54ec38",
       "value": "Downloading: 100%"
      }
     },
     "0fffe96cbdf7466881672abae45efc02": {
      "model_module": "@jupyter-widgets/controls",
      "model_module_version": "1.5.0",
      "model_name": "HTMLModel",
      "state": {
       "_dom_classes": [],
       "_model_module": "@jupyter-widgets/controls",
       "_model_module_version": "1.5.0",
       "_model_name": "HTMLModel",
       "_view_count": null,
       "_view_module": "@jupyter-widgets/controls",
       "_view_module_version": "1.5.0",
       "_view_name": "HTMLView",
       "description": "",
       "description_tooltip": null,
       "layout": "IPY_MODEL_e64b67c762dc4383b358205e9234f1d3",
       "placeholder": "​",
       "style": "IPY_MODEL_e359c38d271d40d3b4e4d0d055947b53",
       "value": " 28.0/28.0 [00:00&lt;00:00, 968B/s]"
      }
     },
     "1ad422e5167646ae9725939801966579": {
      "model_module": "@jupyter-widgets/controls",
      "model_module_version": "1.5.0",
      "model_name": "FloatProgressModel",
      "state": {
       "_dom_classes": [],
       "_model_module": "@jupyter-widgets/controls",
       "_model_module_version": "1.5.0",
       "_model_name": "FloatProgressModel",
       "_view_count": null,
       "_view_module": "@jupyter-widgets/controls",
       "_view_module_version": "1.5.0",
       "_view_name": "ProgressView",
       "bar_style": "success",
       "description": "",
       "description_tooltip": null,
       "layout": "IPY_MODEL_3b96593c937546738e1eccd34edde015",
       "max": 28.0,
       "min": 0.0,
       "orientation": "horizontal",
       "style": "IPY_MODEL_902b573a554c4d12b9bc9393167c11e1",
       "value": 28.0
      }
     },
     "20752129d49b47c79d7cf3e30cfcdf31": {
      "model_module": "@jupyter-widgets/base",
      "model_module_version": "1.2.0",
      "model_name": "LayoutModel",
      "state": {
       "_model_module": "@jupyter-widgets/base",
       "_model_module_version": "1.2.0",
       "_model_name": "LayoutModel",
       "_view_count": null,
       "_view_module": "@jupyter-widgets/base",
       "_view_module_version": "1.2.0",
       "_view_name": "LayoutView",
       "align_content": null,
       "align_items": null,
       "align_self": null,
       "border": null,
       "bottom": null,
       "display": null,
       "flex": null,
       "flex_flow": null,
       "grid_area": null,
       "grid_auto_columns": null,
       "grid_auto_flow": null,
       "grid_auto_rows": null,
       "grid_column": null,
       "grid_gap": null,
       "grid_row": null,
       "grid_template_areas": null,
       "grid_template_columns": null,
       "grid_template_rows": null,
       "height": null,
       "justify_content": null,
       "justify_items": null,
       "left": null,
       "margin": null,
       "max_height": null,
       "max_width": null,
       "min_height": null,
       "min_width": null,
       "object_fit": null,
       "object_position": null,
       "order": null,
       "overflow": null,
       "overflow_x": null,
       "overflow_y": null,
       "padding": null,
       "right": null,
       "top": null,
       "visibility": null,
       "width": null
      }
     },
     "2525bba2b2d04884aee4a0e401f99577": {
      "model_module": "@jupyter-widgets/base",
      "model_module_version": "1.2.0",
      "model_name": "LayoutModel",
      "state": {
       "_model_module": "@jupyter-widgets/base",
       "_model_module_version": "1.2.0",
       "_model_name": "LayoutModel",
       "_view_count": null,
       "_view_module": "@jupyter-widgets/base",
       "_view_module_version": "1.2.0",
       "_view_name": "LayoutView",
       "align_content": null,
       "align_items": null,
       "align_self": null,
       "border": null,
       "bottom": null,
       "display": null,
       "flex": null,
       "flex_flow": null,
       "grid_area": null,
       "grid_auto_columns": null,
       "grid_auto_flow": null,
       "grid_auto_rows": null,
       "grid_column": null,
       "grid_gap": null,
       "grid_row": null,
       "grid_template_areas": null,
       "grid_template_columns": null,
       "grid_template_rows": null,
       "height": null,
       "justify_content": null,
       "justify_items": null,
       "left": null,
       "margin": null,
       "max_height": null,
       "max_width": null,
       "min_height": null,
       "min_width": null,
       "object_fit": null,
       "object_position": null,
       "order": null,
       "overflow": null,
       "overflow_x": null,
       "overflow_y": null,
       "padding": null,
       "right": null,
       "top": null,
       "visibility": null,
       "width": null
      }
     },
     "266e1a165de24068b03394c335d804a0": {
      "model_module": "@jupyter-widgets/controls",
      "model_module_version": "1.5.0",
      "model_name": "DescriptionStyleModel",
      "state": {
       "_model_module": "@jupyter-widgets/controls",
       "_model_module_version": "1.5.0",
       "_model_name": "DescriptionStyleModel",
       "_view_count": null,
       "_view_module": "@jupyter-widgets/base",
       "_view_module_version": "1.2.0",
       "_view_name": "StyleView",
       "description_width": ""
      }
     },
     "279162b25f9d45bd97da40c967cc0b89": {
      "model_module": "@jupyter-widgets/base",
      "model_module_version": "1.2.0",
      "model_name": "LayoutModel",
      "state": {
       "_model_module": "@jupyter-widgets/base",
       "_model_module_version": "1.2.0",
       "_model_name": "LayoutModel",
       "_view_count": null,
       "_view_module": "@jupyter-widgets/base",
       "_view_module_version": "1.2.0",
       "_view_name": "LayoutView",
       "align_content": null,
       "align_items": null,
       "align_self": null,
       "border": null,
       "bottom": null,
       "display": null,
       "flex": null,
       "flex_flow": null,
       "grid_area": null,
       "grid_auto_columns": null,
       "grid_auto_flow": null,
       "grid_auto_rows": null,
       "grid_column": null,
       "grid_gap": null,
       "grid_row": null,
       "grid_template_areas": null,
       "grid_template_columns": null,
       "grid_template_rows": null,
       "height": null,
       "justify_content": null,
       "justify_items": null,
       "left": null,
       "margin": null,
       "max_height": null,
       "max_width": null,
       "min_height": null,
       "min_width": null,
       "object_fit": null,
       "object_position": null,
       "order": null,
       "overflow": null,
       "overflow_x": null,
       "overflow_y": null,
       "padding": null,
       "right": null,
       "top": null,
       "visibility": null,
       "width": null
      }
     },
     "2a7bd242df6b4c47b8cfb9a307771519": {
      "model_module": "@jupyter-widgets/base",
      "model_module_version": "1.2.0",
      "model_name": "LayoutModel",
      "state": {
       "_model_module": "@jupyter-widgets/base",
       "_model_module_version": "1.2.0",
       "_model_name": "LayoutModel",
       "_view_count": null,
       "_view_module": "@jupyter-widgets/base",
       "_view_module_version": "1.2.0",
       "_view_name": "LayoutView",
       "align_content": null,
       "align_items": null,
       "align_self": null,
       "border": null,
       "bottom": null,
       "display": null,
       "flex": null,
       "flex_flow": null,
       "grid_area": null,
       "grid_auto_columns": null,
       "grid_auto_flow": null,
       "grid_auto_rows": null,
       "grid_column": null,
       "grid_gap": null,
       "grid_row": null,
       "grid_template_areas": null,
       "grid_template_columns": null,
       "grid_template_rows": null,
       "height": null,
       "justify_content": null,
       "justify_items": null,
       "left": null,
       "margin": null,
       "max_height": null,
       "max_width": null,
       "min_height": null,
       "min_width": null,
       "object_fit": null,
       "object_position": null,
       "order": null,
       "overflow": null,
       "overflow_x": null,
       "overflow_y": null,
       "padding": null,
       "right": null,
       "top": null,
       "visibility": null,
       "width": null
      }
     },
     "2be7e962b1264ddcada5344d4c154d1f": {
      "model_module": "@jupyter-widgets/controls",
      "model_module_version": "1.5.0",
      "model_name": "HTMLModel",
      "state": {
       "_dom_classes": [],
       "_model_module": "@jupyter-widgets/controls",
       "_model_module_version": "1.5.0",
       "_model_name": "HTMLModel",
       "_view_count": null,
       "_view_module": "@jupyter-widgets/controls",
       "_view_module_version": "1.5.0",
       "_view_name": "HTMLView",
       "description": "",
       "description_tooltip": null,
       "layout": "IPY_MODEL_20752129d49b47c79d7cf3e30cfcdf31",
       "placeholder": "​",
       "style": "IPY_MODEL_42250d6e34984dc59542751defcb23e6",
       "value": "Downloading: 100%"
      }
     },
     "2d1dda7584a34e7a898d74224d46e649": {
      "model_module": "@jupyter-widgets/controls",
      "model_module_version": "1.5.0",
      "model_name": "HBoxModel",
      "state": {
       "_dom_classes": [],
       "_model_module": "@jupyter-widgets/controls",
       "_model_module_version": "1.5.0",
       "_model_name": "HBoxModel",
       "_view_count": null,
       "_view_module": "@jupyter-widgets/controls",
       "_view_module_version": "1.5.0",
       "_view_name": "HBoxView",
       "box_style": "",
       "children": [
        "IPY_MODEL_2fb11063b46a49548af824973c915a8c",
        "IPY_MODEL_87a931308b6d477993810f6a9aee6e54",
        "IPY_MODEL_36fc9cf1334b4b2296d622631905ed78"
       ],
       "layout": "IPY_MODEL_279162b25f9d45bd97da40c967cc0b89"
      }
     },
     "2eb965b5c35d4461867dd5bc7ab145a7": {
      "model_module": "@jupyter-widgets/base",
      "model_module_version": "1.2.0",
      "model_name": "LayoutModel",
      "state": {
       "_model_module": "@jupyter-widgets/base",
       "_model_module_version": "1.2.0",
       "_model_name": "LayoutModel",
       "_view_count": null,
       "_view_module": "@jupyter-widgets/base",
       "_view_module_version": "1.2.0",
       "_view_name": "LayoutView",
       "align_content": null,
       "align_items": null,
       "align_self": null,
       "border": null,
       "bottom": null,
       "display": null,
       "flex": null,
       "flex_flow": null,
       "grid_area": null,
       "grid_auto_columns": null,
       "grid_auto_flow": null,
       "grid_auto_rows": null,
       "grid_column": null,
       "grid_gap": null,
       "grid_row": null,
       "grid_template_areas": null,
       "grid_template_columns": null,
       "grid_template_rows": null,
       "height": null,
       "justify_content": null,
       "justify_items": null,
       "left": null,
       "margin": null,
       "max_height": null,
       "max_width": null,
       "min_height": null,
       "min_width": null,
       "object_fit": null,
       "object_position": null,
       "order": null,
       "overflow": null,
       "overflow_x": null,
       "overflow_y": null,
       "padding": null,
       "right": null,
       "top": null,
       "visibility": null,
       "width": null
      }
     },
     "2fb11063b46a49548af824973c915a8c": {
      "model_module": "@jupyter-widgets/controls",
      "model_module_version": "1.5.0",
      "model_name": "HTMLModel",
      "state": {
       "_dom_classes": [],
       "_model_module": "@jupyter-widgets/controls",
       "_model_module_version": "1.5.0",
       "_model_name": "HTMLModel",
       "_view_count": null,
       "_view_module": "@jupyter-widgets/controls",
       "_view_module_version": "1.5.0",
       "_view_name": "HTMLView",
       "description": "",
       "description_tooltip": null,
       "layout": "IPY_MODEL_2a7bd242df6b4c47b8cfb9a307771519",
       "placeholder": "​",
       "style": "IPY_MODEL_d48ebe8388ab41cfb2d22374f8e80ddc",
       "value": "Downloading: 100%"
      }
     },
     "36fc9cf1334b4b2296d622631905ed78": {
      "model_module": "@jupyter-widgets/controls",
      "model_module_version": "1.5.0",
      "model_name": "HTMLModel",
      "state": {
       "_dom_classes": [],
       "_model_module": "@jupyter-widgets/controls",
       "_model_module_version": "1.5.0",
       "_model_name": "HTMLModel",
       "_view_count": null,
       "_view_module": "@jupyter-widgets/controls",
       "_view_module_version": "1.5.0",
       "_view_name": "HTMLView",
       "description": "",
       "description_tooltip": null,
       "layout": "IPY_MODEL_c16eb5d53abb45f2b906ed38f67ef487",
       "placeholder": "​",
       "style": "IPY_MODEL_266e1a165de24068b03394c335d804a0",
       "value": " 570/570 [00:00&lt;00:00, 18.9kB/s]"
      }
     },
     "3b96593c937546738e1eccd34edde015": {
      "model_module": "@jupyter-widgets/base",
      "model_module_version": "1.2.0",
      "model_name": "LayoutModel",
      "state": {
       "_model_module": "@jupyter-widgets/base",
       "_model_module_version": "1.2.0",
       "_model_name": "LayoutModel",
       "_view_count": null,
       "_view_module": "@jupyter-widgets/base",
       "_view_module_version": "1.2.0",
       "_view_name": "LayoutView",
       "align_content": null,
       "align_items": null,
       "align_self": null,
       "border": null,
       "bottom": null,
       "display": null,
       "flex": null,
       "flex_flow": null,
       "grid_area": null,
       "grid_auto_columns": null,
       "grid_auto_flow": null,
       "grid_auto_rows": null,
       "grid_column": null,
       "grid_gap": null,
       "grid_row": null,
       "grid_template_areas": null,
       "grid_template_columns": null,
       "grid_template_rows": null,
       "height": null,
       "justify_content": null,
       "justify_items": null,
       "left": null,
       "margin": null,
       "max_height": null,
       "max_width": null,
       "min_height": null,
       "min_width": null,
       "object_fit": null,
       "object_position": null,
       "order": null,
       "overflow": null,
       "overflow_x": null,
       "overflow_y": null,
       "padding": null,
       "right": null,
       "top": null,
       "visibility": null,
       "width": null
      }
     },
     "40f29ba112f948fda984319e6ac83c45": {
      "model_module": "@jupyter-widgets/controls",
      "model_module_version": "1.5.0",
      "model_name": "HTMLModel",
      "state": {
       "_dom_classes": [],
       "_model_module": "@jupyter-widgets/controls",
       "_model_module_version": "1.5.0",
       "_model_name": "HTMLModel",
       "_view_count": null,
       "_view_module": "@jupyter-widgets/controls",
       "_view_module_version": "1.5.0",
       "_view_name": "HTMLView",
       "description": "",
       "description_tooltip": null,
       "layout": "IPY_MODEL_d3c4119e02964917b6dc617e9905f326",
       "placeholder": "​",
       "style": "IPY_MODEL_775a47d7d619437f9a35441f9f38a52d",
       "value": " 420M/420M [00:09&lt;00:00, 50.1MB/s]"
      }
     },
     "42250d6e34984dc59542751defcb23e6": {
      "model_module": "@jupyter-widgets/controls",
      "model_module_version": "1.5.0",
      "model_name": "DescriptionStyleModel",
      "state": {
       "_model_module": "@jupyter-widgets/controls",
       "_model_module_version": "1.5.0",
       "_model_name": "DescriptionStyleModel",
       "_view_count": null,
       "_view_module": "@jupyter-widgets/base",
       "_view_module_version": "1.2.0",
       "_view_name": "StyleView",
       "description_width": ""
      }
     },
     "4f1616fa700a491a98f2869cee502d06": {
      "model_module": "@jupyter-widgets/controls",
      "model_module_version": "1.5.0",
      "model_name": "ProgressStyleModel",
      "state": {
       "_model_module": "@jupyter-widgets/controls",
       "_model_module_version": "1.5.0",
       "_model_name": "ProgressStyleModel",
       "_view_count": null,
       "_view_module": "@jupyter-widgets/base",
       "_view_module_version": "1.2.0",
       "_view_name": "StyleView",
       "bar_color": null,
       "description_width": ""
      }
     },
     "5625494fd764492699958dfcaf015d79": {
      "model_module": "@jupyter-widgets/controls",
      "model_module_version": "1.5.0",
      "model_name": "FloatProgressModel",
      "state": {
       "_dom_classes": [],
       "_model_module": "@jupyter-widgets/controls",
       "_model_module_version": "1.5.0",
       "_model_name": "FloatProgressModel",
       "_view_count": null,
       "_view_module": "@jupyter-widgets/controls",
       "_view_module_version": "1.5.0",
       "_view_name": "ProgressView",
       "bar_style": "success",
       "description": "",
       "description_tooltip": null,
       "layout": "IPY_MODEL_ba9b7a91690a47d6a549b0b7bcfc71d1",
       "max": 440473133.0,
       "min": 0.0,
       "orientation": "horizontal",
       "style": "IPY_MODEL_c27f27f4029b455080c2ded4b9af4abc",
       "value": 440473133.0
      }
     },
     "59e2a49dcc9c4afd9e08c54d212a0255": {
      "model_module": "@jupyter-widgets/controls",
      "model_module_version": "1.5.0",
      "model_name": "HBoxModel",
      "state": {
       "_dom_classes": [],
       "_model_module": "@jupyter-widgets/controls",
       "_model_module_version": "1.5.0",
       "_model_name": "HBoxModel",
       "_view_count": null,
       "_view_module": "@jupyter-widgets/controls",
       "_view_module_version": "1.5.0",
       "_view_name": "HBoxView",
       "box_style": "",
       "children": [
        "IPY_MODEL_0fe1ff6a1c5a4143b530b4c65d7fd3b9",
        "IPY_MODEL_1ad422e5167646ae9725939801966579",
        "IPY_MODEL_0fffe96cbdf7466881672abae45efc02"
       ],
       "layout": "IPY_MODEL_85cd318fc8b84e1193ddf7ef00cd5dc6"
      }
     },
     "61be11b59ec5461b8e90990c930fc579": {
      "model_module": "@jupyter-widgets/controls",
      "model_module_version": "1.5.0",
      "model_name": "DescriptionStyleModel",
      "state": {
       "_model_module": "@jupyter-widgets/controls",
       "_model_module_version": "1.5.0",
       "_model_name": "DescriptionStyleModel",
       "_view_count": null,
       "_view_module": "@jupyter-widgets/base",
       "_view_module_version": "1.2.0",
       "_view_name": "StyleView",
       "description_width": ""
      }
     },
     "6db52fd8a56349148b1f76ab6d54ec38": {
      "model_module": "@jupyter-widgets/controls",
      "model_module_version": "1.5.0",
      "model_name": "DescriptionStyleModel",
      "state": {
       "_model_module": "@jupyter-widgets/controls",
       "_model_module_version": "1.5.0",
       "_model_name": "DescriptionStyleModel",
       "_view_count": null,
       "_view_module": "@jupyter-widgets/base",
       "_view_module_version": "1.2.0",
       "_view_name": "StyleView",
       "description_width": ""
      }
     },
     "75d57f32c3904ef59fd2da312fafa9b8": {
      "model_module": "@jupyter-widgets/controls",
      "model_module_version": "1.5.0",
      "model_name": "DescriptionStyleModel",
      "state": {
       "_model_module": "@jupyter-widgets/controls",
       "_model_module_version": "1.5.0",
       "_model_name": "DescriptionStyleModel",
       "_view_count": null,
       "_view_module": "@jupyter-widgets/base",
       "_view_module_version": "1.2.0",
       "_view_name": "StyleView",
       "description_width": ""
      }
     },
     "775a47d7d619437f9a35441f9f38a52d": {
      "model_module": "@jupyter-widgets/controls",
      "model_module_version": "1.5.0",
      "model_name": "DescriptionStyleModel",
      "state": {
       "_model_module": "@jupyter-widgets/controls",
       "_model_module_version": "1.5.0",
       "_model_name": "DescriptionStyleModel",
       "_view_count": null,
       "_view_module": "@jupyter-widgets/base",
       "_view_module_version": "1.2.0",
       "_view_name": "StyleView",
       "description_width": ""
      }
     },
     "84a391d68ed4459cac9eb6dc0521a283": {
      "model_module": "@jupyter-widgets/base",
      "model_module_version": "1.2.0",
      "model_name": "LayoutModel",
      "state": {
       "_model_module": "@jupyter-widgets/base",
       "_model_module_version": "1.2.0",
       "_model_name": "LayoutModel",
       "_view_count": null,
       "_view_module": "@jupyter-widgets/base",
       "_view_module_version": "1.2.0",
       "_view_name": "LayoutView",
       "align_content": null,
       "align_items": null,
       "align_self": null,
       "border": null,
       "bottom": null,
       "display": null,
       "flex": null,
       "flex_flow": null,
       "grid_area": null,
       "grid_auto_columns": null,
       "grid_auto_flow": null,
       "grid_auto_rows": null,
       "grid_column": null,
       "grid_gap": null,
       "grid_row": null,
       "grid_template_areas": null,
       "grid_template_columns": null,
       "grid_template_rows": null,
       "height": null,
       "justify_content": null,
       "justify_items": null,
       "left": null,
       "margin": null,
       "max_height": null,
       "max_width": null,
       "min_height": null,
       "min_width": null,
       "object_fit": null,
       "object_position": null,
       "order": null,
       "overflow": null,
       "overflow_x": null,
       "overflow_y": null,
       "padding": null,
       "right": null,
       "top": null,
       "visibility": null,
       "width": null
      }
     },
     "85cd318fc8b84e1193ddf7ef00cd5dc6": {
      "model_module": "@jupyter-widgets/base",
      "model_module_version": "1.2.0",
      "model_name": "LayoutModel",
      "state": {
       "_model_module": "@jupyter-widgets/base",
       "_model_module_version": "1.2.0",
       "_model_name": "LayoutModel",
       "_view_count": null,
       "_view_module": "@jupyter-widgets/base",
       "_view_module_version": "1.2.0",
       "_view_name": "LayoutView",
       "align_content": null,
       "align_items": null,
       "align_self": null,
       "border": null,
       "bottom": null,
       "display": null,
       "flex": null,
       "flex_flow": null,
       "grid_area": null,
       "grid_auto_columns": null,
       "grid_auto_flow": null,
       "grid_auto_rows": null,
       "grid_column": null,
       "grid_gap": null,
       "grid_row": null,
       "grid_template_areas": null,
       "grid_template_columns": null,
       "grid_template_rows": null,
       "height": null,
       "justify_content": null,
       "justify_items": null,
       "left": null,
       "margin": null,
       "max_height": null,
       "max_width": null,
       "min_height": null,
       "min_width": null,
       "object_fit": null,
       "object_position": null,
       "order": null,
       "overflow": null,
       "overflow_x": null,
       "overflow_y": null,
       "padding": null,
       "right": null,
       "top": null,
       "visibility": null,
       "width": null
      }
     },
     "87a931308b6d477993810f6a9aee6e54": {
      "model_module": "@jupyter-widgets/controls",
      "model_module_version": "1.5.0",
      "model_name": "FloatProgressModel",
      "state": {
       "_dom_classes": [],
       "_model_module": "@jupyter-widgets/controls",
       "_model_module_version": "1.5.0",
       "_model_name": "FloatProgressModel",
       "_view_count": null,
       "_view_module": "@jupyter-widgets/controls",
       "_view_module_version": "1.5.0",
       "_view_name": "ProgressView",
       "bar_style": "success",
       "description": "",
       "description_tooltip": null,
       "layout": "IPY_MODEL_a79b7b88a13d4e7b9d522a8ea005d8c2",
       "max": 570.0,
       "min": 0.0,
       "orientation": "horizontal",
       "style": "IPY_MODEL_f329b9f339464f079088a5dbfcb06da4",
       "value": 570.0
      }
     },
     "902b573a554c4d12b9bc9393167c11e1": {
      "model_module": "@jupyter-widgets/controls",
      "model_module_version": "1.5.0",
      "model_name": "ProgressStyleModel",
      "state": {
       "_model_module": "@jupyter-widgets/controls",
       "_model_module_version": "1.5.0",
       "_model_name": "ProgressStyleModel",
       "_view_count": null,
       "_view_module": "@jupyter-widgets/base",
       "_view_module_version": "1.2.0",
       "_view_name": "StyleView",
       "bar_color": null,
       "description_width": ""
      }
     },
     "a465f9b8ac834691aae75199d1fff59f": {
      "model_module": "@jupyter-widgets/controls",
      "model_module_version": "1.5.0",
      "model_name": "HTMLModel",
      "state": {
       "_dom_classes": [],
       "_model_module": "@jupyter-widgets/controls",
       "_model_module_version": "1.5.0",
       "_model_name": "HTMLModel",
       "_view_count": null,
       "_view_module": "@jupyter-widgets/controls",
       "_view_module_version": "1.5.0",
       "_view_name": "HTMLView",
       "description": "",
       "description_tooltip": null,
       "layout": "IPY_MODEL_ee34f475323f49e2af56d7cb81e4407a",
       "placeholder": "​",
       "style": "IPY_MODEL_75d57f32c3904ef59fd2da312fafa9b8",
       "value": "Downloading: 100%"
      }
     },
     "a4bc272c1682416b84ee34138a1babc3": {
      "model_module": "@jupyter-widgets/controls",
      "model_module_version": "1.5.0",
      "model_name": "HBoxModel",
      "state": {
       "_dom_classes": [],
       "_model_module": "@jupyter-widgets/controls",
       "_model_module_version": "1.5.0",
       "_model_name": "HBoxModel",
       "_view_count": null,
       "_view_module": "@jupyter-widgets/controls",
       "_view_module_version": "1.5.0",
       "_view_name": "HBoxView",
       "box_style": "",
       "children": [
        "IPY_MODEL_2be7e962b1264ddcada5344d4c154d1f",
        "IPY_MODEL_c869407069d34d9eb85030644a02f0ed",
        "IPY_MODEL_e3dcd40298ec42689be19b83552cc5e1"
       ],
       "layout": "IPY_MODEL_faaab31c5b0f403691710061a967b6df"
      }
     },
     "a79b7b88a13d4e7b9d522a8ea005d8c2": {
      "model_module": "@jupyter-widgets/base",
      "model_module_version": "1.2.0",
      "model_name": "LayoutModel",
      "state": {
       "_model_module": "@jupyter-widgets/base",
       "_model_module_version": "1.2.0",
       "_model_name": "LayoutModel",
       "_view_count": null,
       "_view_module": "@jupyter-widgets/base",
       "_view_module_version": "1.2.0",
       "_view_name": "LayoutView",
       "align_content": null,
       "align_items": null,
       "align_self": null,
       "border": null,
       "bottom": null,
       "display": null,
       "flex": null,
       "flex_flow": null,
       "grid_area": null,
       "grid_auto_columns": null,
       "grid_auto_flow": null,
       "grid_auto_rows": null,
       "grid_column": null,
       "grid_gap": null,
       "grid_row": null,
       "grid_template_areas": null,
       "grid_template_columns": null,
       "grid_template_rows": null,
       "height": null,
       "justify_content": null,
       "justify_items": null,
       "left": null,
       "margin": null,
       "max_height": null,
       "max_width": null,
       "min_height": null,
       "min_width": null,
       "object_fit": null,
       "object_position": null,
       "order": null,
       "overflow": null,
       "overflow_x": null,
       "overflow_y": null,
       "padding": null,
       "right": null,
       "top": null,
       "visibility": null,
       "width": null
      }
     },
     "ba9b7a91690a47d6a549b0b7bcfc71d1": {
      "model_module": "@jupyter-widgets/base",
      "model_module_version": "1.2.0",
      "model_name": "LayoutModel",
      "state": {
       "_model_module": "@jupyter-widgets/base",
       "_model_module_version": "1.2.0",
       "_model_name": "LayoutModel",
       "_view_count": null,
       "_view_module": "@jupyter-widgets/base",
       "_view_module_version": "1.2.0",
       "_view_name": "LayoutView",
       "align_content": null,
       "align_items": null,
       "align_self": null,
       "border": null,
       "bottom": null,
       "display": null,
       "flex": null,
       "flex_flow": null,
       "grid_area": null,
       "grid_auto_columns": null,
       "grid_auto_flow": null,
       "grid_auto_rows": null,
       "grid_column": null,
       "grid_gap": null,
       "grid_row": null,
       "grid_template_areas": null,
       "grid_template_columns": null,
       "grid_template_rows": null,
       "height": null,
       "justify_content": null,
       "justify_items": null,
       "left": null,
       "margin": null,
       "max_height": null,
       "max_width": null,
       "min_height": null,
       "min_width": null,
       "object_fit": null,
       "object_position": null,
       "order": null,
       "overflow": null,
       "overflow_x": null,
       "overflow_y": null,
       "padding": null,
       "right": null,
       "top": null,
       "visibility": null,
       "width": null
      }
     },
     "c16eb5d53abb45f2b906ed38f67ef487": {
      "model_module": "@jupyter-widgets/base",
      "model_module_version": "1.2.0",
      "model_name": "LayoutModel",
      "state": {
       "_model_module": "@jupyter-widgets/base",
       "_model_module_version": "1.2.0",
       "_model_name": "LayoutModel",
       "_view_count": null,
       "_view_module": "@jupyter-widgets/base",
       "_view_module_version": "1.2.0",
       "_view_name": "LayoutView",
       "align_content": null,
       "align_items": null,
       "align_self": null,
       "border": null,
       "bottom": null,
       "display": null,
       "flex": null,
       "flex_flow": null,
       "grid_area": null,
       "grid_auto_columns": null,
       "grid_auto_flow": null,
       "grid_auto_rows": null,
       "grid_column": null,
       "grid_gap": null,
       "grid_row": null,
       "grid_template_areas": null,
       "grid_template_columns": null,
       "grid_template_rows": null,
       "height": null,
       "justify_content": null,
       "justify_items": null,
       "left": null,
       "margin": null,
       "max_height": null,
       "max_width": null,
       "min_height": null,
       "min_width": null,
       "object_fit": null,
       "object_position": null,
       "order": null,
       "overflow": null,
       "overflow_x": null,
       "overflow_y": null,
       "padding": null,
       "right": null,
       "top": null,
       "visibility": null,
       "width": null
      }
     },
     "c27f27f4029b455080c2ded4b9af4abc": {
      "model_module": "@jupyter-widgets/controls",
      "model_module_version": "1.5.0",
      "model_name": "ProgressStyleModel",
      "state": {
       "_model_module": "@jupyter-widgets/controls",
       "_model_module_version": "1.5.0",
       "_model_name": "ProgressStyleModel",
       "_view_count": null,
       "_view_module": "@jupyter-widgets/base",
       "_view_module_version": "1.2.0",
       "_view_name": "StyleView",
       "bar_color": null,
       "description_width": ""
      }
     },
     "c869407069d34d9eb85030644a02f0ed": {
      "model_module": "@jupyter-widgets/controls",
      "model_module_version": "1.5.0",
      "model_name": "FloatProgressModel",
      "state": {
       "_dom_classes": [],
       "_model_module": "@jupyter-widgets/controls",
       "_model_module_version": "1.5.0",
       "_model_name": "FloatProgressModel",
       "_view_count": null,
       "_view_module": "@jupyter-widgets/controls",
       "_view_module_version": "1.5.0",
       "_view_name": "ProgressView",
       "bar_style": "success",
       "description": "",
       "description_tooltip": null,
       "layout": "IPY_MODEL_0d0123aa369644f39d2635b0607adea1",
       "max": 231508.0,
       "min": 0.0,
       "orientation": "horizontal",
       "style": "IPY_MODEL_4f1616fa700a491a98f2869cee502d06",
       "value": 231508.0
      }
     },
     "d3c4119e02964917b6dc617e9905f326": {
      "model_module": "@jupyter-widgets/base",
      "model_module_version": "1.2.0",
      "model_name": "LayoutModel",
      "state": {
       "_model_module": "@jupyter-widgets/base",
       "_model_module_version": "1.2.0",
       "_model_name": "LayoutModel",
       "_view_count": null,
       "_view_module": "@jupyter-widgets/base",
       "_view_module_version": "1.2.0",
       "_view_name": "LayoutView",
       "align_content": null,
       "align_items": null,
       "align_self": null,
       "border": null,
       "bottom": null,
       "display": null,
       "flex": null,
       "flex_flow": null,
       "grid_area": null,
       "grid_auto_columns": null,
       "grid_auto_flow": null,
       "grid_auto_rows": null,
       "grid_column": null,
       "grid_gap": null,
       "grid_row": null,
       "grid_template_areas": null,
       "grid_template_columns": null,
       "grid_template_rows": null,
       "height": null,
       "justify_content": null,
       "justify_items": null,
       "left": null,
       "margin": null,
       "max_height": null,
       "max_width": null,
       "min_height": null,
       "min_width": null,
       "object_fit": null,
       "object_position": null,
       "order": null,
       "overflow": null,
       "overflow_x": null,
       "overflow_y": null,
       "padding": null,
       "right": null,
       "top": null,
       "visibility": null,
       "width": null
      }
     },
     "d48ebe8388ab41cfb2d22374f8e80ddc": {
      "model_module": "@jupyter-widgets/controls",
      "model_module_version": "1.5.0",
      "model_name": "DescriptionStyleModel",
      "state": {
       "_model_module": "@jupyter-widgets/controls",
       "_model_module_version": "1.5.0",
       "_model_name": "DescriptionStyleModel",
       "_view_count": null,
       "_view_module": "@jupyter-widgets/base",
       "_view_module_version": "1.2.0",
       "_view_name": "StyleView",
       "description_width": ""
      }
     },
     "e359c38d271d40d3b4e4d0d055947b53": {
      "model_module": "@jupyter-widgets/controls",
      "model_module_version": "1.5.0",
      "model_name": "DescriptionStyleModel",
      "state": {
       "_model_module": "@jupyter-widgets/controls",
       "_model_module_version": "1.5.0",
       "_model_name": "DescriptionStyleModel",
       "_view_count": null,
       "_view_module": "@jupyter-widgets/base",
       "_view_module_version": "1.2.0",
       "_view_name": "StyleView",
       "description_width": ""
      }
     },
     "e3dcd40298ec42689be19b83552cc5e1": {
      "model_module": "@jupyter-widgets/controls",
      "model_module_version": "1.5.0",
      "model_name": "HTMLModel",
      "state": {
       "_dom_classes": [],
       "_model_module": "@jupyter-widgets/controls",
       "_model_module_version": "1.5.0",
       "_model_name": "HTMLModel",
       "_view_count": null,
       "_view_module": "@jupyter-widgets/controls",
       "_view_module_version": "1.5.0",
       "_view_name": "HTMLView",
       "description": "",
       "description_tooltip": null,
       "layout": "IPY_MODEL_2eb965b5c35d4461867dd5bc7ab145a7",
       "placeholder": "​",
       "style": "IPY_MODEL_61be11b59ec5461b8e90990c930fc579",
       "value": " 226k/226k [00:00&lt;00:00, 2.51MB/s]"
      }
     },
     "e64b67c762dc4383b358205e9234f1d3": {
      "model_module": "@jupyter-widgets/base",
      "model_module_version": "1.2.0",
      "model_name": "LayoutModel",
      "state": {
       "_model_module": "@jupyter-widgets/base",
       "_model_module_version": "1.2.0",
       "_model_name": "LayoutModel",
       "_view_count": null,
       "_view_module": "@jupyter-widgets/base",
       "_view_module_version": "1.2.0",
       "_view_name": "LayoutView",
       "align_content": null,
       "align_items": null,
       "align_self": null,
       "border": null,
       "bottom": null,
       "display": null,
       "flex": null,
       "flex_flow": null,
       "grid_area": null,
       "grid_auto_columns": null,
       "grid_auto_flow": null,
       "grid_auto_rows": null,
       "grid_column": null,
       "grid_gap": null,
       "grid_row": null,
       "grid_template_areas": null,
       "grid_template_columns": null,
       "grid_template_rows": null,
       "height": null,
       "justify_content": null,
       "justify_items": null,
       "left": null,
       "margin": null,
       "max_height": null,
       "max_width": null,
       "min_height": null,
       "min_width": null,
       "object_fit": null,
       "object_position": null,
       "order": null,
       "overflow": null,
       "overflow_x": null,
       "overflow_y": null,
       "padding": null,
       "right": null,
       "top": null,
       "visibility": null,
       "width": null
      }
     },
     "ee34f475323f49e2af56d7cb81e4407a": {
      "model_module": "@jupyter-widgets/base",
      "model_module_version": "1.2.0",
      "model_name": "LayoutModel",
      "state": {
       "_model_module": "@jupyter-widgets/base",
       "_model_module_version": "1.2.0",
       "_model_name": "LayoutModel",
       "_view_count": null,
       "_view_module": "@jupyter-widgets/base",
       "_view_module_version": "1.2.0",
       "_view_name": "LayoutView",
       "align_content": null,
       "align_items": null,
       "align_self": null,
       "border": null,
       "bottom": null,
       "display": null,
       "flex": null,
       "flex_flow": null,
       "grid_area": null,
       "grid_auto_columns": null,
       "grid_auto_flow": null,
       "grid_auto_rows": null,
       "grid_column": null,
       "grid_gap": null,
       "grid_row": null,
       "grid_template_areas": null,
       "grid_template_columns": null,
       "grid_template_rows": null,
       "height": null,
       "justify_content": null,
       "justify_items": null,
       "left": null,
       "margin": null,
       "max_height": null,
       "max_width": null,
       "min_height": null,
       "min_width": null,
       "object_fit": null,
       "object_position": null,
       "order": null,
       "overflow": null,
       "overflow_x": null,
       "overflow_y": null,
       "padding": null,
       "right": null,
       "top": null,
       "visibility": null,
       "width": null
      }
     },
     "f329b9f339464f079088a5dbfcb06da4": {
      "model_module": "@jupyter-widgets/controls",
      "model_module_version": "1.5.0",
      "model_name": "ProgressStyleModel",
      "state": {
       "_model_module": "@jupyter-widgets/controls",
       "_model_module_version": "1.5.0",
       "_model_name": "ProgressStyleModel",
       "_view_count": null,
       "_view_module": "@jupyter-widgets/base",
       "_view_module_version": "1.2.0",
       "_view_name": "StyleView",
       "bar_color": null,
       "description_width": ""
      }
     },
     "faaab31c5b0f403691710061a967b6df": {
      "model_module": "@jupyter-widgets/base",
      "model_module_version": "1.2.0",
      "model_name": "LayoutModel",
      "state": {
       "_model_module": "@jupyter-widgets/base",
       "_model_module_version": "1.2.0",
       "_model_name": "LayoutModel",
       "_view_count": null,
       "_view_module": "@jupyter-widgets/base",
       "_view_module_version": "1.2.0",
       "_view_name": "LayoutView",
       "align_content": null,
       "align_items": null,
       "align_self": null,
       "border": null,
       "bottom": null,
       "display": null,
       "flex": null,
       "flex_flow": null,
       "grid_area": null,
       "grid_auto_columns": null,
       "grid_auto_flow": null,
       "grid_auto_rows": null,
       "grid_column": null,
       "grid_gap": null,
       "grid_row": null,
       "grid_template_areas": null,
       "grid_template_columns": null,
       "grid_template_rows": null,
       "height": null,
       "justify_content": null,
       "justify_items": null,
       "left": null,
       "margin": null,
       "max_height": null,
       "max_width": null,
       "min_height": null,
       "min_width": null,
       "object_fit": null,
       "object_position": null,
       "order": null,
       "overflow": null,
       "overflow_x": null,
       "overflow_y": null,
       "padding": null,
       "right": null,
       "top": null,
       "visibility": null,
       "width": null
      }
     }
    },
    "version_major": 2,
    "version_minor": 0
   }
  }
 },
 "nbformat": 4,
 "nbformat_minor": 5
}
